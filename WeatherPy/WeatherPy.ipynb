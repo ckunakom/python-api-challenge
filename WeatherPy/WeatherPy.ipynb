{
 "cells": [
  {
   "cell_type": "markdown",
   "metadata": {},
   "source": [
    "# WeatherPy\n",
    "----\n",
    "\n",
    "#### Note\n",
    "* Instructions have been included for each segment. You do not have to follow them exactly, but they are included to help you think through the steps."
   ]
  },
  {
   "cell_type": "code",
   "execution_count": 1,
   "metadata": {
    "scrolled": true
   },
   "outputs": [
    {
     "data": {
      "text/html": [
       "<div>\n",
       "<style scoped>\n",
       "    .dataframe tbody tr th:only-of-type {\n",
       "        vertical-align: middle;\n",
       "    }\n",
       "\n",
       "    .dataframe tbody tr th {\n",
       "        vertical-align: top;\n",
       "    }\n",
       "\n",
       "    .dataframe thead th {\n",
       "        text-align: right;\n",
       "    }\n",
       "</style>\n",
       "<table border=\"1\" class=\"dataframe\">\n",
       "  <thead>\n",
       "    <tr style=\"text-align: right;\">\n",
       "      <th></th>\n",
       "      <th>City_ID</th>\n",
       "      <th>City</th>\n",
       "      <th>Cloudiness</th>\n",
       "      <th>Country</th>\n",
       "      <th>Date</th>\n",
       "      <th>Humidity</th>\n",
       "      <th>Lat</th>\n",
       "      <th>Lng</th>\n",
       "      <th>Max Temp</th>\n",
       "      <th>Wind Speed</th>\n",
       "    </tr>\n",
       "  </thead>\n",
       "  <tbody>\n",
       "    <tr>\n",
       "      <th>0</th>\n",
       "      <td>0</td>\n",
       "      <td>ostrovnoy</td>\n",
       "      <td>2</td>\n",
       "      <td>RU</td>\n",
       "      <td>1558378754</td>\n",
       "      <td>72</td>\n",
       "      <td>68.05</td>\n",
       "      <td>39.51</td>\n",
       "      <td>37.5</td>\n",
       "      <td>7.16</td>\n",
       "    </tr>\n",
       "    <tr>\n",
       "      <th>1</th>\n",
       "      <td>1</td>\n",
       "      <td>mahebourg</td>\n",
       "      <td>75</td>\n",
       "      <td>MU</td>\n",
       "      <td>1558378503</td>\n",
       "      <td>74</td>\n",
       "      <td>-20.41</td>\n",
       "      <td>57.70</td>\n",
       "      <td>78.8</td>\n",
       "      <td>11.41</td>\n",
       "    </tr>\n",
       "    <tr>\n",
       "      <th>2</th>\n",
       "      <td>2</td>\n",
       "      <td>qaanaaq</td>\n",
       "      <td>25</td>\n",
       "      <td>GL</td>\n",
       "      <td>1558378755</td>\n",
       "      <td>73</td>\n",
       "      <td>77.48</td>\n",
       "      <td>-69.36</td>\n",
       "      <td>22.2</td>\n",
       "      <td>2.37</td>\n",
       "    </tr>\n",
       "  </tbody>\n",
       "</table>\n",
       "</div>"
      ],
      "text/plain": [
       "   City_ID       City  Cloudiness Country        Date  Humidity    Lat    Lng  \\\n",
       "0        0  ostrovnoy           2      RU  1558378754        72  68.05  39.51   \n",
       "1        1  mahebourg          75      MU  1558378503        74 -20.41  57.70   \n",
       "2        2    qaanaaq          25      GL  1558378755        73  77.48 -69.36   \n",
       "\n",
       "   Max Temp  Wind Speed  \n",
       "0      37.5        7.16  \n",
       "1      78.8       11.41  \n",
       "2      22.2        2.37  "
      ]
     },
     "execution_count": 1,
     "metadata": {},
     "output_type": "execute_result"
    }
   ],
   "source": [
    "# Dependencies and Setup\n",
    "import matplotlib.pyplot as plt\n",
    "import pandas as pd\n",
    "import numpy as np\n",
    "import requests\n",
    "import time\n",
    "from scipy.stats import linregress\n",
    "\n",
    "# Import API key\n",
    "from config import weather_api_key\n",
    "\n",
    "# Incorporated citipy to determine city based on latitude and longitude\n",
    "from citipy import citipy\n",
    "\n",
    "# Output File (CSV)\n",
    "cities_df = pd.read_csv(\"../cities.csv\")\n",
    "\n",
    "# Range of latitudes and longitudes\n",
    "lat_range = (-90, 90)\n",
    "lng_range = (-180, 180)\n",
    "\n",
    "cities_df.head(3)"
   ]
  },
  {
   "cell_type": "markdown",
   "metadata": {},
   "source": [
    "## Generate Cities List"
   ]
  },
  {
   "cell_type": "code",
   "execution_count": 2,
   "metadata": {},
   "outputs": [],
   "source": [
    "# List for holding lat_lngs and cities\n",
    "lat_lngs = []\n",
    "cities = []\n",
    "\n",
    "# Create a set of random lat and lng combinations\n",
    "lats = np.random.uniform(lat_range[0], lat_range[1], size=1500)\n",
    "lngs = np.random.uniform(lng_range[0], lng_range[1], size=1500)\n",
    "lat_lngs = zip(lats, lngs)"
   ]
  },
  {
   "cell_type": "code",
   "execution_count": 3,
   "metadata": {},
   "outputs": [],
   "source": [
    "# Identify nearest city for each lat, lng combination\n",
    "for lat_lng in lat_lngs:\n",
    "    city = citipy.nearest_city(lat_lng[0], lat_lng[1]).city_name\n",
    "    \n",
    "    # If the city is unique, then add it to a our cities list\n",
    "    if city not in cities:\n",
    "        cities.append(city)"
   ]
  },
  {
   "cell_type": "code",
   "execution_count": 4,
   "metadata": {},
   "outputs": [
    {
     "data": {
      "text/plain": [
       "611"
      ]
     },
     "execution_count": 4,
     "metadata": {},
     "output_type": "execute_result"
    }
   ],
   "source": [
    "# Print the city count to confirm sufficient count\n",
    "len(cities)"
   ]
  },
  {
   "cell_type": "markdown",
   "metadata": {},
   "source": [
    "### Perform API Calls\n",
    "* Perform a weather check on each city using a series of successive API calls.\n",
    "* Include a print log of each city as it's being processed (with the city number and city name)."
   ]
  },
  {
   "cell_type": "code",
   "execution_count": 5,
   "metadata": {},
   "outputs": [],
   "source": [
    "# Save config information.\n",
    "url = \"http://api.openweathermap.org/data/2.5/weather?\"\n",
    "units = \"imperial\"\n",
    "\n",
    "# Build query URL and request your results in Celsius\n",
    "query_url = f\"{url}appid={weather_api_key}&units={units}&q=\""
   ]
  },
  {
   "cell_type": "code",
   "execution_count": 6,
   "metadata": {},
   "outputs": [
    {
     "name": "stdout",
     "output_type": "stream",
     "text": [
      "[1]: Gat processed.\n",
      "[2]: Hilo processed.\n",
      "[3]: Georgetown processed.\n",
      "[4]: Avarua processed.\n",
      "[5]: Mabilao processed.\n",
      "[6]: Taltal processed.\n",
      "[7]: Bluff processed.\n",
      "[8]: Ushuaia processed.\n",
      "[9]: Lubbock processed.\n",
      "[10]: Ahipara processed.\n",
      "[11]: Ramban processed.\n",
      "[12]: Torbay processed.\n",
      "[13]: Saint Pete Beach processed.\n",
      "[14]: Kovur processed.\n",
      "[15]: Saskylakh processed.\n",
      "[16]: Fernley processed.\n",
      "[17]: Hithadhoo processed.\n",
      "[18]: Port Elizabeth processed.\n",
      "[19]: Albany processed.\n",
      "[20]: Lebu processed.\n",
      "[21]: Carnarvon processed.\n",
      "[22]: Hofn processed.\n",
      "[23]: Methoni processed.\n",
      "[24]: Kaitangata processed.\n",
      "[25]: College processed.\n",
      "[26]: City not found.\n",
      "[27]: Strezhevoy processed.\n",
      "[28]: Esperance processed.\n",
      "[29]: Rikitea processed.\n",
      "[30]: Dawlatabad processed.\n",
      "[31]: Punta Arenas processed.\n",
      "[32]: Mantua processed.\n",
      "[33]: Hambantota processed.\n",
      "[34]: Mitu processed.\n",
      "[35]: Jamestown processed.\n",
      "[36]: Flinders processed.\n",
      "[37]: Chuy processed.\n",
      "[38]: Ust-Kuyga processed.\n",
      "[39]: Butaritari processed.\n",
      "[40]: Axim processed.\n",
      "[41]: Silale processed.\n",
      "[42]: Taoudenni processed.\n",
      "[43]: East London processed.\n",
      "[44]: Busselton processed.\n",
      "[45]: City not found.\n",
      "[46]: Cidreira processed.\n",
      "[47]: Verkhoyansk processed.\n",
      "[48]: Sambava processed.\n",
      "[49]: Tuktoyaktuk processed.\n",
      "[50]: Hobart processed.\n",
      "[51]: Souillac processed.\n",
      "[52]: Puerto Ayora processed.\n",
      "[53]: Yellowknife processed.\n",
      "[54]: Plettenberg Bay processed.\n",
      "[55]: Kainantu processed.\n",
      "[56]: Naze processed.\n",
      "[57]: Kamaishi processed.\n",
      "[58]: Mar Del Plata processed.\n",
      "[59]: Baghdad processed.\n",
      "[60]: Mareeba processed.\n",
      "[61]: Khatanga processed.\n",
      "[62]: Bhakkar processed.\n",
      "[63]: Longyearbyen processed.\n",
      "[64]: Progreso processed.\n",
      "[65]: Kuruman processed.\n",
      "[66]: Sabla processed.\n",
      "[67]: Sibu processed.\n",
      "[68]: Altoona processed.\n",
      "[69]: Saquena processed.\n",
      "[70]: Ancud processed.\n",
      "[71]: Vic processed.\n",
      "[72]: Hermanus processed.\n",
      "[73]: Zhangye processed.\n",
      "[74]: Kumluca processed.\n",
      "[75]: Saposoa processed.\n",
      "[76]: City not found.\n",
      "[77]: Kilimatinde processed.\n",
      "[78]: Binika processed.\n",
      "[79]: Airai processed.\n",
      "[80]: Upernavik processed.\n",
      "[81]: Codrington processed.\n",
      "[82]: Dikson processed.\n",
      "[83]: Port Hardy processed.\n",
      "[84]: Nishihara processed.\n",
      "[85]: City not found.\n",
      "[86]: Chapais processed.\n",
      "[87]: Hay River processed.\n",
      "[88]: Vaini processed.\n",
      "[89]: Mataura processed.\n",
      "[90]: Merauke processed.\n",
      "[91]: Coquimbo processed.\n",
      "[92]: City not found.\n",
      "[93]: Am Timan processed.\n",
      "[94]: City not found.\n",
      "[95]: Vao processed.\n",
      "[96]: City not found.\n",
      "[97]: Manaure processed.\n",
      "[98]: City not found.\n",
      "[99]: Necochea processed.\n",
      "[100]: Sinnamary processed.\n",
      "[101]: Kahului processed.\n",
      "[102]: Bilma processed.\n",
      "[103]: Crossville processed.\n",
      "[104]: Fort Saint James processed.\n",
      "[105]: Lagoa processed.\n",
      "[106]: Saldanha processed.\n",
      "[107]: Yulara processed.\n",
      "[108]: Zaraza processed.\n",
      "[109]: Arraial Do Cabo processed.\n",
      "[110]: City not found.\n",
      "[111]: Clyde River processed.\n",
      "[112]: Katobu processed.\n",
      "[113]: Faya processed.\n",
      "[114]: City not found.\n",
      "[115]: Jinka processed.\n",
      "[116]: Mahebourg processed.\n",
      "[117]: Ribeira Grande processed.\n",
      "[118]: Beidao processed.\n",
      "[119]: City not found.\n",
      "[120]: Barrow processed.\n",
      "[121]: Kamina processed.\n",
      "[122]: Mana processed.\n",
      "[123]: Stephanskirchen processed.\n",
      "[124]: Jiuquan processed.\n",
      "[125]: Fairbanks processed.\n",
      "[126]: Grindavik processed.\n",
      "[127]: City not found.\n",
      "[128]: Jackson processed.\n",
      "[129]: Dauphin processed.\n",
      "[130]: Padang processed.\n",
      "[131]: Oskarshamn processed.\n",
      "[132]: Gazojak processed.\n",
      "[133]: Kodiak processed.\n",
      "[134]: Thinadhoo processed.\n",
      "[135]: Palmer processed.\n",
      "[136]: Cootamundra processed.\n",
      "[137]: Petropavlovsk-Kamchatskiy processed.\n",
      "[138]: Bambous Virieux processed.\n",
      "[139]: Svetlaya processed.\n",
      "[140]: Presidencia Roque Saenz Pena processed.\n",
      "[141]: Qaanaaq processed.\n",
      "[142]: Hasaki processed.\n",
      "[143]: Victoria processed.\n",
      "[144]: Kasempa processed.\n",
      "[145]: Severo-Kurilsk processed.\n",
      "[146]: Pevek processed.\n",
      "[147]: Bathsheba processed.\n",
      "[148]: Cape Town processed.\n",
      "[149]: City not found.\n",
      "[150]: Belen processed.\n",
      "[151]: Ust-Karsk processed.\n",
      "[152]: Pisco processed.\n",
      "[153]: City not found.\n",
      "[154]: Bredasdorp processed.\n",
      "[155]: Lavrentiya processed.\n",
      "[156]: Nemuro processed.\n",
      "[157]: Fortuna processed.\n",
      "[158]: City not found.\n",
      "[159]: Honningsvag processed.\n",
      "[160]: Kapaa processed.\n",
      "[161]: West Plains processed.\n",
      "[162]: Santander processed.\n",
      "[163]: Coruripe processed.\n",
      "[164]: Usinsk processed.\n",
      "[165]: Lamar processed.\n",
      "[166]: Atuona processed.\n",
      "[167]: Lock Haven processed.\n",
      "[168]: Katsuura processed.\n",
      "[169]: Faanui processed.\n",
      "[170]: Kez processed.\n",
      "[171]: Trairi processed.\n",
      "[172]: Cascais processed.\n",
      "[173]: Blackwater processed.\n",
      "[174]: Anchorage processed.\n",
      "[175]: City not found.\n",
      "[176]: Boralday processed.\n",
      "[177]: Vestmannaeyjar processed.\n",
      "[178]: Hengshui processed.\n",
      "[179]: Maniitsoq processed.\n",
      "[180]: Mount Isa processed.\n",
      "[181]: Cockburn Town processed.\n",
      "[182]: New Norfolk processed.\n",
      "[183]: Miedzyrzec Podlaski processed.\n",
      "[184]: Cairns processed.\n",
      "[185]: Northam processed.\n",
      "[186]: Saint-Philippe processed.\n",
      "[187]: Half Moon Bay processed.\n",
      "[188]: Sao Filipe processed.\n",
      "[189]: Xining processed.\n",
      "[190]: Barcelona processed.\n",
      "[191]: Shakhtinsk processed.\n",
      "[192]: Tocopilla processed.\n",
      "[193]: Kawalu processed.\n",
      "[194]: Port Alfred processed.\n",
      "[195]: Tuatapere processed.\n",
      "[196]: Nicoya processed.\n",
      "[197]: Pavlodar processed.\n",
      "[198]: Rio Grande processed.\n",
      "[199]: Pangai processed.\n",
      "[200]: Bengkulu processed.\n",
      "[201]: Bobo Dioulasso processed.\n",
      "[202]: Aripuana processed.\n",
      "[203]: Nuevo Progreso processed.\n",
      "[204]: Paracatu processed.\n",
      "[205]: Honiara processed.\n",
      "[206]: City not found.\n",
      "[207]: Nikolskoye processed.\n",
      "[208]: Mandera processed.\n",
      "[209]: Bethel processed.\n",
      "[210]: Chitungwiza processed.\n",
      "[211]: La Concepcion processed.\n",
      "[212]: Umm Lajj processed.\n",
      "[213]: City not found.\n",
      "[214]: Gilgit processed.\n",
      "[215]: Chokurdakh processed.\n",
      "[216]: City not found.\n",
      "[217]: Fairlie processed.\n",
      "[218]: Cayenne processed.\n",
      "[219]: Ust-Koksa processed.\n",
      "[220]: Laramie processed.\n",
      "[221]: Sitka processed.\n",
      "[222]: Jinchang processed.\n",
      "[223]: City not found.\n",
      "[224]: General Roca processed.\n",
      "[225]: Impfondo processed.\n",
      "[226]: Mount Gambier processed.\n",
      "[227]: Leningradskiy processed.\n",
      "[228]: Ahuimanu processed.\n",
      "[229]: Norman Wells processed.\n",
      "[230]: Cherbourg processed.\n",
      "[231]: Castro processed.\n",
      "[232]: Merrill processed.\n",
      "[233]: Jeremie processed.\n",
      "[234]: Novopokrovka processed.\n",
      "[235]: Skotterud processed.\n",
      "[236]: Haines Junction processed.\n",
      "[237]: Dolores processed.\n",
      "[238]: Kamenka processed.\n",
      "[239]: Alofi processed.\n",
      "[240]: Byron Bay processed.\n",
      "[241]: Coihaique processed.\n",
      "[242]: Ardmore processed.\n",
      "[243]: Kavieng processed.\n",
      "[244]: Marquette processed.\n",
      "[245]: Nanortalik processed.\n",
      "[246]: Tasiilaq processed.\n",
      "[247]: Lorengau processed.\n",
      "[248]: Gannan processed.\n",
      "[249]: Ayan processed.\n",
      "[250]: Broome processed.\n",
      "[251]: Dingle processed.\n",
      "[252]: Horsham processed.\n",
      "[253]: Kiama processed.\n",
      "[254]: Muros processed.\n",
      "[255]: Ponta Do Sol processed.\n",
      "[256]: Gimli processed.\n",
      "[257]: Morondava processed.\n",
      "[258]: Houma processed.\n",
      "[259]: Fort Nelson processed.\n",
      "[260]: Husavik processed.\n",
      "[261]: Carnduff processed.\n",
      "[262]: Talcahuano processed.\n",
      "[263]: Hagere Selam processed.\n",
      "[264]: Namibe processed.\n",
      "[265]: Nioro processed.\n",
      "[266]: Awbari processed.\n",
      "[267]: Japura processed.\n",
      "[268]: Ukiah processed.\n",
      "[269]: Omsukchan processed.\n",
      "[270]: Shiyan processed.\n",
      "[271]: Llanes processed.\n",
      "[272]: Sampit processed.\n",
      "[273]: Mastic Beach processed.\n",
      "[274]: Honolulu processed.\n",
      "[275]: Char Bhadrasan processed.\n",
      "[276]: Southend-On-Sea processed.\n",
      "[277]: Ourinhos processed.\n",
      "[278]: Inhambane processed.\n",
      "[279]: Hanzhong processed.\n",
      "[280]: Karaman processed.\n",
      "[281]: Talnakh processed.\n",
      "[282]: Guaruja processed.\n",
      "[283]: Tecoanapa processed.\n",
      "[284]: Margate processed.\n",
      "[285]: Slupsk processed.\n",
      "[286]: City not found.\n",
      "[287]: Igrim processed.\n",
      "[288]: Lao Cai processed.\n",
      "[289]: Ron Phibun processed.\n",
      "[290]: Calama processed.\n",
      "[291]: Pangnirtung processed.\n",
      "[292]: Vestmanna processed.\n",
      "[293]: Samarai processed.\n",
      "[294]: Simpang processed.\n",
      "[295]: Jumla processed.\n",
      "[296]: City not found.\n",
      "[297]: Vardo processed.\n",
      "[298]: Abu Kamal processed.\n",
      "[299]: Oksfjord processed.\n",
      "[300]: Buala processed.\n",
      "[301]: City not found.\n",
      "[302]: Vidim processed.\n",
      "[303]: Nawa processed.\n",
      "[304]: Gladstone processed.\n",
      "[305]: City not found.\n",
      "[306]: Oistins processed.\n",
      "[307]: Egvekinot processed.\n",
      "[308]: Nova Borova processed.\n",
      "[309]: Korla processed.\n",
      "[310]: Seoul processed.\n"
     ]
    },
    {
     "name": "stdout",
     "output_type": "stream",
     "text": [
      "[311]: Deputatskiy processed.\n",
      "[312]: Thompson processed.\n",
      "[313]: Hami processed.\n",
      "[314]: Kromy processed.\n",
      "[315]: Hamilton processed.\n",
      "[316]: Umea processed.\n",
      "[317]: Jahazpur processed.\n",
      "[318]: Makakilo City processed.\n",
      "[319]: Severomuysk processed.\n",
      "[320]: Leshukonskoye processed.\n",
      "[321]: Evensk processed.\n",
      "[322]: Sorata processed.\n",
      "[323]: Aswan processed.\n",
      "[324]: Te Anau processed.\n",
      "[325]: Nivala processed.\n",
      "[326]: Itoman processed.\n",
      "[327]: Porto Novo processed.\n",
      "[328]: Adra processed.\n",
      "[329]: Sorland processed.\n",
      "[330]: Larsnes processed.\n",
      "[331]: Lagos processed.\n",
      "[332]: Sabang processed.\n",
      "[333]: Santa Lucia processed.\n",
      "[334]: Atagay processed.\n",
      "[335]: Saint George processed.\n",
      "[336]: Terre-De-Bas processed.\n",
      "[337]: Anadyr processed.\n",
      "[338]: Potsdam processed.\n",
      "[339]: Maarianhamina processed.\n",
      "[340]: City not found.\n",
      "[341]: Mercedes processed.\n",
      "[342]: Gallup processed.\n",
      "[343]: Beringovskiy processed.\n",
      "[344]: Henties Bay processed.\n",
      "[345]: Kaitong processed.\n",
      "[346]: Ngawen processed.\n",
      "[347]: Beloha processed.\n",
      "[348]: Luanda processed.\n",
      "[349]: Navalmoral De La Mata processed.\n",
      "[350]: Abapo processed.\n",
      "[351]: Araouane processed.\n",
      "[352]: Ayr processed.\n",
      "[353]: Iqaluit processed.\n",
      "[354]: Provideniya processed.\n",
      "[355]: Auki processed.\n",
      "[356]: Karratha processed.\n",
      "[357]: Igdir processed.\n",
      "[358]: Adrar processed.\n",
      "[359]: Kalabo processed.\n",
      "[360]: Kaeo processed.\n",
      "[361]: Bell Ville processed.\n",
      "[362]: Khandyga processed.\n",
      "[363]: Huilong processed.\n",
      "[364]: Wuchang processed.\n",
      "[365]: Yumen processed.\n",
      "[366]: City not found.\n",
      "[367]: Cabo San Lucas processed.\n",
      "[368]: City not found.\n",
      "[369]: Darnah processed.\n",
      "[370]: Goderich processed.\n",
      "[371]: Robertsport processed.\n",
      "[372]: Port Lincoln processed.\n",
      "[373]: City not found.\n",
      "[374]: Mporokoso processed.\n",
      "[375]: San Policarpo processed.\n",
      "[376]: Praia processed.\n",
      "[377]: Tabas processed.\n",
      "[378]: Port Blair processed.\n",
      "[379]: Cachoeira Do Sul processed.\n",
      "[380]: Klaksvik processed.\n",
      "[381]: Kushmurun processed.\n",
      "[382]: Hervey Bay processed.\n",
      "[383]: Lompoc processed.\n",
      "[384]: Tiznit processed.\n",
      "[385]: Ponta Delgada processed.\n",
      "[386]: Vila Franca Do Campo processed.\n",
      "[387]: Kittery processed.\n",
      "[388]: The Valley processed.\n",
      "[389]: Tokonou processed.\n",
      "[390]: Bremervorde processed.\n",
      "[391]: Huangnihe processed.\n",
      "[392]: Acarau processed.\n",
      "[393]: Bhatkal processed.\n",
      "[394]: Constitucion processed.\n",
      "[395]: Tilichiki processed.\n",
      "[396]: Arlit processed.\n",
      "[397]: Lodja processed.\n",
      "[398]: Mutare processed.\n",
      "[399]: Talaya processed.\n",
      "[400]: Avera processed.\n",
      "[401]: Rize processed.\n",
      "[402]: La Ronge processed.\n",
      "[403]: City not found.\n",
      "[404]: Basco processed.\n",
      "[405]: Pandan processed.\n",
      "[406]: Tiksi processed.\n",
      "[407]: Bosaso processed.\n",
      "[408]: Varzea Da Palma processed.\n",
      "[409]: Zyryanovsk processed.\n",
      "[410]: Ostersund processed.\n",
      "[411]: Walvis Bay processed.\n",
      "[412]: Catumbela processed.\n",
      "[413]: Peniche processed.\n",
      "[414]: Rafai processed.\n",
      "[415]: Beaverlodge processed.\n",
      "[416]: City not found.\n",
      "[417]: Kumphawapi processed.\n",
      "[418]: Los Llanos De Aridane processed.\n",
      "[419]: Nenjiang processed.\n",
      "[420]: Sao Felix Do Xingu processed.\n",
      "[421]: Salinopolis processed.\n",
      "[422]: Nizip processed.\n",
      "[423]: Geraldton processed.\n",
      "[424]: Poya processed.\n",
      "[425]: Bindura processed.\n",
      "[426]: Guerrero Negro processed.\n",
      "[427]: Maltahohe processed.\n",
      "[428]: Juneau processed.\n",
      "[429]: Hastings processed.\n",
      "[430]: Jennings processed.\n",
      "[431]: Meulaboh processed.\n",
      "[432]: Canutama processed.\n",
      "[433]: Carbonia processed.\n",
      "[434]: Kungurtug processed.\n",
      "[435]: Raha processed.\n",
      "[436]: Hualmay processed.\n",
      "[437]: Coihueco processed.\n",
      "[438]: Tupancireta processed.\n",
      "[439]: Boguchany processed.\n",
      "[440]: Yarmouth processed.\n",
      "[441]: Kruisfontein processed.\n",
      "[442]: Roma processed.\n",
      "[443]: Manacapuru processed.\n",
      "[444]: Saint-Ambroise processed.\n",
      "[445]: Nouadhibou processed.\n",
      "[446]: Morales processed.\n",
      "[447]: Srednekolymsk processed.\n",
      "[448]: Mazyr processed.\n",
      "[449]: Marshall processed.\n",
      "[450]: Shingu processed.\n",
      "[451]: Paamiut processed.\n",
      "[452]: Prince Rupert processed.\n",
      "[453]: Hovd processed.\n",
      "[454]: Blagoyevo processed.\n",
      "[455]: Kamarion processed.\n",
      "[456]: Cherskiy processed.\n",
      "[457]: Simao processed.\n",
      "[458]: Jishou processed.\n",
      "[459]: Ilulissat processed.\n",
      "[460]: Ekhabi processed.\n",
      "[461]: Eureka processed.\n",
      "[462]: Owando processed.\n",
      "[463]: Seremban processed.\n",
      "[464]: Khorol processed.\n",
      "[465]: Harper processed.\n",
      "[466]: Waingapu processed.\n",
      "[467]: Biltine processed.\n",
      "[468]: Berlevag processed.\n",
      "[469]: Comodoro Rivadavia processed.\n",
      "[470]: Mazagao processed.\n",
      "[471]: Fraserburgh processed.\n",
      "[472]: Kozhva processed.\n",
      "[473]: San Patricio processed.\n",
      "[474]: Ushtobe processed.\n",
      "[475]: Cap Malheureux processed.\n",
      "[476]: Arcata processed.\n",
      "[477]: Arona processed.\n",
      "[478]: Brandon processed.\n",
      "[479]: Vanimo processed.\n",
      "[480]: Saint-Joseph processed.\n",
      "[481]: Iisalmi processed.\n",
      "[482]: Paris processed.\n",
      "[483]: Banda Aceh processed.\n",
      "[484]: Kirakira processed.\n",
      "[485]: Labuhan processed.\n",
      "[486]: Aksay processed.\n",
      "[487]: Ikungi processed.\n",
      "[488]: Salalah processed.\n",
      "[489]: Bardiyah processed.\n",
      "[490]: San Quintin processed.\n",
      "[491]: Ulladulla processed.\n",
      "[492]: Bubaque processed.\n",
      "[493]: Kabala processed.\n",
      "[494]: Batemans Bay processed.\n",
      "[495]: Daru processed.\n",
      "[496]: Emerald processed.\n",
      "[497]: Kidal processed.\n",
      "[498]: Jacareacanga processed.\n",
      "[499]: Ostrovnoy processed.\n",
      "[500]: Leirvik processed.\n",
      "[501]: Altay processed.\n",
      "[502]: Stornoway processed.\n",
      "[503]: Caluquembe processed.\n",
      "[504]: Tura processed.\n",
      "[505]: Rawson processed.\n",
      "[506]: Mgandu processed.\n",
      "[507]: Amapa processed.\n",
      "[508]: Revelstoke processed.\n",
      "[509]: Nova Zagora processed.\n",
      "[510]: Luderitz processed.\n",
      "[511]: Matamoros processed.\n",
      "[512]: Pacifica processed.\n",
      "[513]: City not found.\n",
      "[514]: Tual processed.\n",
      "[515]: City not found.\n",
      "[516]: Viedma processed.\n",
      "[517]: Karasjok processed.\n",
      "[518]: Niono processed.\n",
      "[519]: Najran processed.\n",
      "[520]: Rio Gallegos processed.\n",
      "[521]: Havre processed.\n",
      "[522]: City not found.\n",
      "[523]: San Cristobal processed.\n",
      "[524]: Abeche processed.\n",
      "[525]: Bethanien processed.\n",
      "[526]: Louga processed.\n",
      "[527]: Saint-Felicien processed.\n",
      "[528]: Odweyne processed.\n",
      "[529]: Evanston processed.\n",
      "[530]: Khanpur processed.\n",
      "[531]: Parrita processed.\n",
      "[532]: Qujing processed.\n",
      "[533]: Caravelas processed.\n",
      "[534]: Aksu processed.\n",
      "[535]: Namatanai processed.\n",
      "[536]: Kota Tinggi processed.\n",
      "[537]: Risaralda processed.\n",
      "[538]: Koltubanovskiy processed.\n",
      "[539]: City not found.\n",
      "[540]: Asfi processed.\n",
      "[541]: Sola processed.\n",
      "[542]: City not found.\n",
      "[543]: Erenhot processed.\n",
      "[544]: City not found.\n",
      "[545]: Leon processed.\n",
      "[546]: Chiang Rai processed.\n",
      "[547]: Zhigansk processed.\n",
      "[548]: Vilyuysk processed.\n",
      "[549]: Onega processed.\n",
      "[550]: Harbour Breton processed.\n",
      "[551]: Kisangani processed.\n",
      "[552]: Narsaq processed.\n",
      "[553]: Santa Cruz De La Palma processed.\n",
      "[554]: City not found.\n",
      "[555]: Ternate processed.\n",
      "[556]: Puerto Baquerizo Moreno processed.\n",
      "[557]: Saint-Augustin processed.\n",
      "[558]: Troitskoye processed.\n",
      "[559]: Salamiyah processed.\n",
      "[560]: Pedregulho processed.\n",
      "[561]: Manicore processed.\n",
      "[562]: Tazovskiy processed.\n",
      "[563]: Ust-Nera processed.\n",
      "[564]: City not found.\n",
      "[565]: Labis processed.\n",
      "[566]: Santa Luzia processed.\n",
      "[567]: Newton Stewart processed.\n",
      "[568]: Itaqui processed.\n",
      "[569]: Bonoua processed.\n",
      "[570]: Pochutla processed.\n",
      "[571]: Fujieda processed.\n",
      "[572]: Kijini processed.\n",
      "[573]: Sembakung processed.\n",
      "[574]: Amuntai processed.\n",
      "[575]: City not found.\n",
      "[576]: Takoradi processed.\n",
      "[577]: City not found.\n",
      "[578]: Galesong processed.\n",
      "[579]: City not found.\n",
      "[580]: Ciudad Bolivar processed.\n",
      "[581]: Mackay processed.\n",
      "[582]: City not found.\n",
      "[583]: Chandler processed.\n",
      "[584]: Svetlyy processed.\n",
      "[585]: Kinkala processed.\n",
      "[586]: Kaohsiung processed.\n",
      "[587]: Challans processed.\n",
      "[588]: Komotini processed.\n",
      "[589]: Carutapera processed.\n",
      "[590]: Grand-Santi processed.\n",
      "[591]: Dustlik processed.\n",
      "[592]: Sale processed.\n",
      "[593]: Dunedin processed.\n",
      "[594]: Kokopo processed.\n",
      "[595]: Bowen processed.\n",
      "[596]: Capelle processed.\n",
      "[597]: Manavalakurichi processed.\n",
      "[598]: Amahai processed.\n",
      "[599]: Alasehir processed.\n",
      "[600]: Sompeta processed.\n",
      "[601]: Diamantino processed.\n",
      "[602]: Kutum processed.\n",
      "[603]: Almaty processed.\n",
      "[604]: Stoughton processed.\n",
      "[605]: Tutoia processed.\n",
      "[606]: Neka processed.\n",
      "[607]: Hobyo processed.\n",
      "[608]: Raga processed.\n",
      "[609]: Masvingo processed.\n",
      "[610]: Indramayu processed.\n",
      "[611]: Dharchula processed.\n"
     ]
    }
   ],
   "source": [
    "# List for holding temperature of each city\n",
    "temp = []\n",
    "humidity = []\n",
    "cloudiness = []\n",
    "windspeed = []\n",
    "lat = []\n",
    "lng = []\n",
    "city_name = []\n",
    "country = []\n",
    "\n",
    "# Loop through the list of cities and perform a request for data on each, while keeping count of the city number\n",
    "for n, city in enumerate(cities, 1):\n",
    "    \n",
    "    # Get weather data\n",
    "    weather_response = requests.get(query_url + city)\n",
    "    weather_json = weather_response.json()\n",
    "    \n",
    "    # Get weather info from JSON response and add to the list\n",
    "    try:    \n",
    "        temp.append(weather_json['main']['temp_max'])\n",
    "        humidity.append(weather_json['main']['humidity'])\n",
    "        cloudiness.append(weather_json['clouds']['all'])\n",
    "        windspeed.append(weather_json['wind']['speed'])\n",
    "        lat.append(weather_json['coord']['lat']) \n",
    "        lng.append(weather_json['coord']['lon']) \n",
    "        city_name.append(city)\n",
    "        country.append(weather_json['sys']['country'])\n",
    "        # print log of each city as it's being processed (city number and city name).\n",
    "        print(f\"[{n}]: {city.title()} processed.\")\n",
    "        \n",
    "    except:\n",
    "        # Skip over to the new city while counting city\n",
    "        print(f\"[{n}]: City not found.\")\n",
    "        pass\n",
    "    "
   ]
  },
  {
   "cell_type": "code",
   "execution_count": 7,
   "metadata": {},
   "outputs": [
    {
     "data": {
      "text/plain": [
       "569"
      ]
     },
     "execution_count": 7,
     "metadata": {},
     "output_type": "execute_result"
    }
   ],
   "source": [
    "# Checking how many city samples in total\n",
    "len(temp)"
   ]
  },
  {
   "cell_type": "markdown",
   "metadata": {},
   "source": [
    "### Convert Raw Data to DataFrame\n",
    "* Export the city data into a .csv.\n",
    "* Display the DataFrame"
   ]
  },
  {
   "cell_type": "code",
   "execution_count": 8,
   "metadata": {},
   "outputs": [
    {
     "data": {
      "text/html": [
       "<div>\n",
       "<style scoped>\n",
       "    .dataframe tbody tr th:only-of-type {\n",
       "        vertical-align: middle;\n",
       "    }\n",
       "\n",
       "    .dataframe tbody tr th {\n",
       "        vertical-align: top;\n",
       "    }\n",
       "\n",
       "    .dataframe thead th {\n",
       "        text-align: right;\n",
       "    }\n",
       "</style>\n",
       "<table border=\"1\" class=\"dataframe\">\n",
       "  <thead>\n",
       "    <tr style=\"text-align: right;\">\n",
       "      <th></th>\n",
       "      <th>City</th>\n",
       "      <th>Country</th>\n",
       "      <th>Latitude</th>\n",
       "      <th>Longitude</th>\n",
       "      <th>Max Temperature (F)</th>\n",
       "      <th>Humidity (%)</th>\n",
       "      <th>Cloudiness (%)</th>\n",
       "      <th>Wind Speed (mph)</th>\n",
       "    </tr>\n",
       "  </thead>\n",
       "  <tbody>\n",
       "    <tr>\n",
       "      <th>0</th>\n",
       "      <td>gat</td>\n",
       "      <td>IL</td>\n",
       "      <td>31.61</td>\n",
       "      <td>34.76</td>\n",
       "      <td>77.00</td>\n",
       "      <td>62</td>\n",
       "      <td>0</td>\n",
       "      <td>2.73</td>\n",
       "    </tr>\n",
       "    <tr>\n",
       "      <th>1</th>\n",
       "      <td>hilo</td>\n",
       "      <td>US</td>\n",
       "      <td>19.73</td>\n",
       "      <td>-155.09</td>\n",
       "      <td>84.20</td>\n",
       "      <td>66</td>\n",
       "      <td>40</td>\n",
       "      <td>10.29</td>\n",
       "    </tr>\n",
       "    <tr>\n",
       "      <th>2</th>\n",
       "      <td>georgetown</td>\n",
       "      <td>MY</td>\n",
       "      <td>5.41</td>\n",
       "      <td>100.34</td>\n",
       "      <td>77.00</td>\n",
       "      <td>94</td>\n",
       "      <td>20</td>\n",
       "      <td>3.36</td>\n",
       "    </tr>\n",
       "    <tr>\n",
       "      <th>3</th>\n",
       "      <td>avarua</td>\n",
       "      <td>CK</td>\n",
       "      <td>-21.21</td>\n",
       "      <td>-159.78</td>\n",
       "      <td>75.20</td>\n",
       "      <td>64</td>\n",
       "      <td>86</td>\n",
       "      <td>10.29</td>\n",
       "    </tr>\n",
       "    <tr>\n",
       "      <th>4</th>\n",
       "      <td>mabilao</td>\n",
       "      <td>PH</td>\n",
       "      <td>16.15</td>\n",
       "      <td>120.42</td>\n",
       "      <td>83.35</td>\n",
       "      <td>73</td>\n",
       "      <td>24</td>\n",
       "      <td>3.33</td>\n",
       "    </tr>\n",
       "  </tbody>\n",
       "</table>\n",
       "</div>"
      ],
      "text/plain": [
       "         City Country  Latitude  Longitude  Max Temperature (F)  Humidity (%)  \\\n",
       "0         gat      IL     31.61      34.76                77.00            62   \n",
       "1        hilo      US     19.73    -155.09                84.20            66   \n",
       "2  georgetown      MY      5.41     100.34                77.00            94   \n",
       "3      avarua      CK    -21.21    -159.78                75.20            64   \n",
       "4     mabilao      PH     16.15     120.42                83.35            73   \n",
       "\n",
       "   Cloudiness (%)  Wind Speed (mph)  \n",
       "0               0              2.73  \n",
       "1              40             10.29  \n",
       "2              20              3.36  \n",
       "3              86             10.29  \n",
       "4              24              3.33  "
      ]
     },
     "execution_count": 8,
     "metadata": {},
     "output_type": "execute_result"
    }
   ],
   "source": [
    "cities_api_data_df = pd.DataFrame({\n",
    "    \"City\": city_name,\n",
    "    \"Country\": country,\n",
    "    \"Latitude\": lat,\n",
    "    \"Longitude\": lng,\n",
    "    \"Max Temperature (F)\": temp,\n",
    "    \"Humidity (%)\": humidity,\n",
    "    \"Cloudiness (%)\": cloudiness,\n",
    "    \"Wind Speed (mph)\": windspeed\n",
    "    })\n",
    "\n",
    "# Save Data to csv\n",
    "cities_api_data_df.to_csv(\"Output Data/City_Data.csv\")\n",
    "cities_api_data_df.head()"
   ]
  },
  {
   "cell_type": "markdown",
   "metadata": {},
   "source": [
    "## Inspect the data and remove the cities where the humidity > 100%.\n",
    "----\n",
    "Skip this step if there are no cities that have humidity > 100%. "
   ]
  },
  {
   "cell_type": "code",
   "execution_count": 15,
   "metadata": {},
   "outputs": [
    {
     "data": {
      "text/html": [
       "<div>\n",
       "<style scoped>\n",
       "    .dataframe tbody tr th:only-of-type {\n",
       "        vertical-align: middle;\n",
       "    }\n",
       "\n",
       "    .dataframe tbody tr th {\n",
       "        vertical-align: top;\n",
       "    }\n",
       "\n",
       "    .dataframe thead th {\n",
       "        text-align: right;\n",
       "    }\n",
       "</style>\n",
       "<table border=\"1\" class=\"dataframe\">\n",
       "  <thead>\n",
       "    <tr style=\"text-align: right;\">\n",
       "      <th></th>\n",
       "      <th>City</th>\n",
       "      <th>Country</th>\n",
       "      <th>Latitude</th>\n",
       "      <th>Longitude</th>\n",
       "      <th>Max Temperature (F)</th>\n",
       "      <th>Humidity (%)</th>\n",
       "      <th>Cloudiness (%)</th>\n",
       "      <th>Wind Speed (mph)</th>\n",
       "    </tr>\n",
       "  </thead>\n",
       "  <tbody>\n",
       "  </tbody>\n",
       "</table>\n",
       "</div>"
      ],
      "text/plain": [
       "Empty DataFrame\n",
       "Columns: [City, Country, Latitude, Longitude, Max Temperature (F), Humidity (%), Cloudiness (%), Wind Speed (mph)]\n",
       "Index: []"
      ]
     },
     "execution_count": 15,
     "metadata": {},
     "output_type": "execute_result"
    }
   ],
   "source": [
    "### USE THE STUFF HERE FOR GOING FORWARD WITH THE REST OF THE HW\n",
    "humidity100_df = cities_api_data_df.loc[cities_api_data_df['Humidity (%)'] > 100, :]\n",
    "humidity100_df.head(3)"
   ]
  },
  {
   "cell_type": "code",
   "execution_count": 16,
   "metadata": {},
   "outputs": [],
   "source": [
    "#  Get the indices of cities that have humidity over 100%.\n",
    "# # https://stackoverflow.com/questions/41217310/get-index-of-a-row-of-a-pandas-dataframe-as-an-integer/42853445\n",
    "# humidity100_index = humidity100_df.index.values.astype(int)\n",
    "# humidity100_index"
   ]
  },
  {
   "cell_type": "code",
   "execution_count": null,
   "metadata": {},
   "outputs": [],
   "source": [
    "# Make a new DataFrame equal to the city data to drop all humidity outliers by index.\n",
    "# Passing \"inplace=False\" will make a copy of the city_data DataFrame, which we call \"clean_city_data\"."
   ]
  },
  {
   "cell_type": "code",
   "execution_count": null,
   "metadata": {},
   "outputs": [],
   "source": [
    "# Extract relevant fields from the data frame\n",
    "# Export the City_Data into a csv"
   ]
  },
  {
   "cell_type": "markdown",
   "metadata": {},
   "source": [
    "## Plotting the Data\n",
    "* Use proper labeling of the plots using plot titles (including date of analysis) and axes labels.\n",
    "* Save the plotted figures as .pngs."
   ]
  },
  {
   "cell_type": "markdown",
   "metadata": {},
   "source": [
    "## Latitude vs. Temperature Plot"
   ]
  },
  {
   "cell_type": "code",
   "execution_count": 22,
   "metadata": {
    "scrolled": true
   },
   "outputs": [
    {
     "data": {
      "image/png": "[encoded data removed]",
      "text/plain": [
       "<Figure size 504x360 with 1 Axes>"
      ]
     },
     "metadata": {
      "needs_background": "light"
     },
     "output_type": "display_data"
    }
   ],
   "source": [
    "cities_api_data_df.plot(kind='scatter', x='Latitude', y='Max Temperature (F)', title='City Latitude VS Maximum Temperature (7/24/20)', grid=True, figsize=(7,5))\n",
    "plt.savefig(\"Output Data/latitude_maxT.png\")\n",
    "plt.show()"
   ]
  },
  {
   "cell_type": "markdown",
   "metadata": {},
   "source": [
    "## Latitude vs. Humidity Plot"
   ]
  },
  {
   "cell_type": "code",
   "execution_count": 23,
   "metadata": {
    "scrolled": true
   },
   "outputs": [
    {
     "data": {
      "image/png": "[encoded data removed]",
      "text/plain": [
       "<Figure size 504x360 with 1 Axes>"
      ]
     },
     "metadata": {
      "needs_background": "light"
     },
     "output_type": "display_data"
    }
   ],
   "source": [
    "cities_api_data_df.plot(kind='scatter', x='Latitude', y='Humidity (%)', title='City Latitude VS Humidity (7/24/20)', grid=True, figsize=(7,5))\n",
    "plt.savefig(\"Output Data/latitude_humidity.png\")\n",
    "plt.show()"
   ]
  },
  {
   "cell_type": "markdown",
   "metadata": {},
   "source": [
    "## Latitude vs. Cloudiness Plot"
   ]
  },
  {
   "cell_type": "code",
   "execution_count": 24,
   "metadata": {},
   "outputs": [
    {
     "data": {
      "image/png": "[encoded data removed]",
      "text/plain": [
       "<Figure size 504x360 with 1 Axes>"
      ]
     },
     "metadata": {
      "needs_background": "light"
     },
     "output_type": "display_data"
    }
   ],
   "source": [
    "cities_api_data_df.plot(kind='scatter', x='Latitude', y='Cloudiness (%)', title='City Latitude VS Cloudiness (7/24/20)', grid=True, figsize=(7,5))\n",
    "plt.savefig(\"Output Data/latitude_cloudiness.png\")\n",
    "plt.show()"
   ]
  },
  {
   "cell_type": "markdown",
   "metadata": {},
   "source": [
    "## Latitude vs. Wind Speed Plot"
   ]
  },
  {
   "cell_type": "code",
   "execution_count": 25,
   "metadata": {},
   "outputs": [
    {
     "data": {
      "image/png": "[encoded data removed]",
      "text/plain": [
       "<Figure size 504x360 with 1 Axes>"
      ]
     },
     "metadata": {
      "needs_background": "light"
     },
     "output_type": "display_data"
    }
   ],
   "source": [
    "cities_api_data_df.plot(kind='scatter', x='Latitude', y='Wind Speed (mph)', title='City Latitude VS Wind Speed (7/24/20)', grid=True, figsize=(7,5))\n",
    "plt.savefig(\"Output Data/latitude_windspeed.png\")\n",
    "plt.show()"
   ]
  },
  {
   "cell_type": "markdown",
   "metadata": {},
   "source": [
    "## Linear Regression"
   ]
  },
  {
   "cell_type": "code",
   "execution_count": 21,
   "metadata": {},
   "outputs": [
    {
     "data": {
      "text/html": [
       "<div>\n",
       "<style scoped>\n",
       "    .dataframe tbody tr th:only-of-type {\n",
       "        vertical-align: middle;\n",
       "    }\n",
       "\n",
       "    .dataframe tbody tr th {\n",
       "        vertical-align: top;\n",
       "    }\n",
       "\n",
       "    .dataframe thead th {\n",
       "        text-align: right;\n",
       "    }\n",
       "</style>\n",
       "<table border=\"1\" class=\"dataframe\">\n",
       "  <thead>\n",
       "    <tr style=\"text-align: right;\">\n",
       "      <th></th>\n",
       "      <th>City</th>\n",
       "      <th>Country</th>\n",
       "      <th>Latitude</th>\n",
       "      <th>Longitude</th>\n",
       "      <th>Max Temperature (F)</th>\n",
       "      <th>Humidity (%)</th>\n",
       "      <th>Cloudiness (%)</th>\n",
       "      <th>Wind Speed (mph)</th>\n",
       "    </tr>\n",
       "  </thead>\n",
       "  <tbody>\n",
       "    <tr>\n",
       "      <th>0</th>\n",
       "      <td>gat</td>\n",
       "      <td>IL</td>\n",
       "      <td>31.61</td>\n",
       "      <td>34.76</td>\n",
       "      <td>77.00</td>\n",
       "      <td>62</td>\n",
       "      <td>0</td>\n",
       "      <td>2.73</td>\n",
       "    </tr>\n",
       "    <tr>\n",
       "      <th>1</th>\n",
       "      <td>hilo</td>\n",
       "      <td>US</td>\n",
       "      <td>19.73</td>\n",
       "      <td>-155.09</td>\n",
       "      <td>84.20</td>\n",
       "      <td>66</td>\n",
       "      <td>40</td>\n",
       "      <td>10.29</td>\n",
       "    </tr>\n",
       "    <tr>\n",
       "      <th>2</th>\n",
       "      <td>georgetown</td>\n",
       "      <td>MY</td>\n",
       "      <td>5.41</td>\n",
       "      <td>100.34</td>\n",
       "      <td>77.00</td>\n",
       "      <td>94</td>\n",
       "      <td>20</td>\n",
       "      <td>3.36</td>\n",
       "    </tr>\n",
       "    <tr>\n",
       "      <th>3</th>\n",
       "      <td>avarua</td>\n",
       "      <td>CK</td>\n",
       "      <td>-21.21</td>\n",
       "      <td>-159.78</td>\n",
       "      <td>75.20</td>\n",
       "      <td>64</td>\n",
       "      <td>86</td>\n",
       "      <td>10.29</td>\n",
       "    </tr>\n",
       "    <tr>\n",
       "      <th>4</th>\n",
       "      <td>mabilao</td>\n",
       "      <td>PH</td>\n",
       "      <td>16.15</td>\n",
       "      <td>120.42</td>\n",
       "      <td>83.35</td>\n",
       "      <td>73</td>\n",
       "      <td>24</td>\n",
       "      <td>3.33</td>\n",
       "    </tr>\n",
       "    <tr>\n",
       "      <th>...</th>\n",
       "      <td>...</td>\n",
       "      <td>...</td>\n",
       "      <td>...</td>\n",
       "      <td>...</td>\n",
       "      <td>...</td>\n",
       "      <td>...</td>\n",
       "      <td>...</td>\n",
       "      <td>...</td>\n",
       "    </tr>\n",
       "    <tr>\n",
       "      <th>564</th>\n",
       "      <td>hobyo</td>\n",
       "      <td>SO</td>\n",
       "      <td>5.35</td>\n",
       "      <td>48.53</td>\n",
       "      <td>77.04</td>\n",
       "      <td>73</td>\n",
       "      <td>78</td>\n",
       "      <td>24.25</td>\n",
       "    </tr>\n",
       "    <tr>\n",
       "      <th>565</th>\n",
       "      <td>raga</td>\n",
       "      <td>SS</td>\n",
       "      <td>8.46</td>\n",
       "      <td>25.68</td>\n",
       "      <td>70.12</td>\n",
       "      <td>89</td>\n",
       "      <td>97</td>\n",
       "      <td>5.73</td>\n",
       "    </tr>\n",
       "    <tr>\n",
       "      <th>566</th>\n",
       "      <td>masvingo</td>\n",
       "      <td>ZW</td>\n",
       "      <td>-20.06</td>\n",
       "      <td>30.83</td>\n",
       "      <td>48.27</td>\n",
       "      <td>82</td>\n",
       "      <td>52</td>\n",
       "      <td>5.93</td>\n",
       "    </tr>\n",
       "    <tr>\n",
       "      <th>567</th>\n",
       "      <td>indramayu</td>\n",
       "      <td>ID</td>\n",
       "      <td>-6.33</td>\n",
       "      <td>108.32</td>\n",
       "      <td>76.17</td>\n",
       "      <td>74</td>\n",
       "      <td>97</td>\n",
       "      <td>8.08</td>\n",
       "    </tr>\n",
       "    <tr>\n",
       "      <th>568</th>\n",
       "      <td>dharchula</td>\n",
       "      <td>IN</td>\n",
       "      <td>29.85</td>\n",
       "      <td>80.53</td>\n",
       "      <td>67.62</td>\n",
       "      <td>75</td>\n",
       "      <td>81</td>\n",
       "      <td>0.56</td>\n",
       "    </tr>\n",
       "  </tbody>\n",
       "</table>\n",
       "<p>569 rows × 8 columns</p>\n",
       "</div>"
      ],
      "text/plain": [
       "           City Country  Latitude  Longitude  Max Temperature (F)  \\\n",
       "0           gat      IL     31.61      34.76                77.00   \n",
       "1          hilo      US     19.73    -155.09                84.20   \n",
       "2    georgetown      MY      5.41     100.34                77.00   \n",
       "3        avarua      CK    -21.21    -159.78                75.20   \n",
       "4       mabilao      PH     16.15     120.42                83.35   \n",
       "..          ...     ...       ...        ...                  ...   \n",
       "564       hobyo      SO      5.35      48.53                77.04   \n",
       "565        raga      SS      8.46      25.68                70.12   \n",
       "566    masvingo      ZW    -20.06      30.83                48.27   \n",
       "567   indramayu      ID     -6.33     108.32                76.17   \n",
       "568   dharchula      IN     29.85      80.53                67.62   \n",
       "\n",
       "     Humidity (%)  Cloudiness (%)  Wind Speed (mph)  \n",
       "0              62               0              2.73  \n",
       "1              66              40             10.29  \n",
       "2              94              20              3.36  \n",
       "3              64              86             10.29  \n",
       "4              73              24              3.33  \n",
       "..            ...             ...               ...  \n",
       "564            73              78             24.25  \n",
       "565            89              97              5.73  \n",
       "566            82              52              5.93  \n",
       "567            74              97              8.08  \n",
       "568            75              81              0.56  \n",
       "\n",
       "[569 rows x 8 columns]"
      ]
     },
     "execution_count": 21,
     "metadata": {},
     "output_type": "execute_result"
    }
   ],
   "source": [
    "# Create Northern and Southern Hemisphere DataFrames\n",
    "northern_hem_df = cities_api_data_df.loc[cities_api_data_df['Latitude'] >= 0, :]\n",
    "southern_hem_df = cities_api_data_df.loc[cities_api_data_df['Latitude'] < 0, :]\n",
    "cities_api_data_df"
   ]
  },
  {
   "cell_type": "code",
   "execution_count": 26,
   "metadata": {},
   "outputs": [],
   "source": [
    "# OPTIONAL: Create a function to create Linear Regression plots\n",
    "def plotweather(df,y, hem):\n",
    "    # Scatter plot\n",
    "    plt.xlabel('Latitude')\n",
    "    plt.ylabel(y)\n",
    "    plt.title(f'{hem} Hemisphere - {y} vs. Latitude (7/24/20)')\n",
    "    x = df['Latitude']\n",
    "    y = df[y]\n",
    "    plt.scatter(x, y)\n",
    "    \n",
    "    # Add linear regression line\n",
    "    (slope, intercept, rvalue, pvalue, stderr) = linregress(x, y)\n",
    "    regress = x * slope + intercept\n",
    "    plt.plot(x,regress,\"r-\")\n",
    "    print(f\"The r-squared is: {rvalue**2}\")"
   ]
  },
  {
   "cell_type": "markdown",
   "metadata": {},
   "source": [
    "####  Northern Hemisphere - Max Temp vs. Latitude Linear Regression"
   ]
  },
  {
   "cell_type": "code",
   "execution_count": 27,
   "metadata": {
    "scrolled": true
   },
   "outputs": [
    {
     "name": "stdout",
     "output_type": "stream",
     "text": [
      "The r-squared is: 0.40043646807086736\n"
     ]
    },
    {
     "data": {
      "image/png": "[encoded data removed]",
      "text/plain": [
       "<Figure size 432x288 with 1 Axes>"
      ]
     },
     "metadata": {
      "needs_background": "light"
     },
     "output_type": "display_data"
    }
   ],
   "source": [
    "y = 'Max Temperature (F)'\n",
    "hem = 'Northern'\n",
    "plotweather(northern_hem_df, y, hem)\n",
    "    \n",
    "# Save the plot as png file\n",
    "plt.savefig(f\"Output Data/{hem} Hemisphere - {y} vs. Latitude.png\")\n",
    "\n",
    "plt.show()"
   ]
  },
  {
   "cell_type": "markdown",
   "metadata": {},
   "source": [
    "####  Southern Hemisphere - Max Temp vs. Latitude Linear Regression"
   ]
  },
  {
   "cell_type": "code",
   "execution_count": 28,
   "metadata": {},
   "outputs": [
    {
     "name": "stdout",
     "output_type": "stream",
     "text": [
      "The r-squared is: 0.6142781384195334\n"
     ]
    },
    {
     "data": {
      "image/png": "[encoded data removed]",
      "text/plain": [
       "<Figure size 432x288 with 1 Axes>"
      ]
     },
     "metadata": {
      "needs_background": "light"
     },
     "output_type": "display_data"
    }
   ],
   "source": [
    "y = 'Max Temperature (F)'\n",
    "hem = 'Southern'\n",
    "plotweather(southern_hem_df, y, hem)\n",
    "\n",
    "# Save the plot as png file\n",
    "plt.savefig(f\"Output Data/{hem} Hemisphere - {y} vs. Latitude.png\")\n",
    "\n",
    "plt.show()"
   ]
  },
  {
   "cell_type": "markdown",
   "metadata": {},
   "source": [
    "The linear regression models the correlation between latitude and maximum temperature in the northern and southern hemispheres. \n",
    "\n",
    "The model for the northern hemisphere suggests a weak negative correlation between the latitude and the maximum tempeature. As the latitude increases, the maximum temperature decreases.\n",
    "\n",
    "The model for the southern hemisphere suggests a moderate-to-weak positive correlation between the latitude and the maximum tempeature compared to the model for the northern hemisphere. As the latitude increases, the maximum temperature also increases. The southern hemisphere model indicates a stronger correlation, compared to the norther hemisphere model."
   ]
  },
  {
   "cell_type": "markdown",
   "metadata": {},
   "source": [
    "####  Northern Hemisphere - Humidity (%) vs. Latitude Linear Regression"
   ]
  },
  {
   "cell_type": "code",
   "execution_count": 29,
   "metadata": {},
   "outputs": [
    {
     "name": "stdout",
     "output_type": "stream",
     "text": [
      "The r-squared is: 0.0025878934686387836\n"
     ]
    },
    {
     "data": {
      "image/png": "[encoded data removed]",
      "text/plain": [
       "<Figure size 432x288 with 1 Axes>"
      ]
     },
     "metadata": {
      "needs_background": "light"
     },
     "output_type": "display_data"
    }
   ],
   "source": [
    "y = 'Humidity (%)'\n",
    "hem = 'Northern'\n",
    "plotweather(northern_hem_df, y, hem)\n",
    "\n",
    "# Save the plot as png file\n",
    "plt.savefig(f\"Output Data/{hem} Hemisphere - {y} vs. Latitude.png\")\n",
    "\n",
    "plt.show()"
   ]
  },
  {
   "cell_type": "markdown",
   "metadata": {},
   "source": [
    "####  Southern Hemisphere - Humidity (%) vs. Latitude Linear Regression"
   ]
  },
  {
   "cell_type": "code",
   "execution_count": 30,
   "metadata": {},
   "outputs": [
    {
     "name": "stdout",
     "output_type": "stream",
     "text": [
      "The r-squared is: 0.008341339837624572\n"
     ]
    },
    {
     "data": {
      "image/png": "[encoded data removed]",
      "text/plain": [
       "<Figure size 432x288 with 1 Axes>"
      ]
     },
     "metadata": {
      "needs_background": "light"
     },
     "output_type": "display_data"
    }
   ],
   "source": [
    "y = 'Humidity (%)'\n",
    "hem = 'Southern'\n",
    "plotweather(southern_hem_df, y, hem)\n",
    "\n",
    "# Save the plot as png file\n",
    "plt.savefig(f\"Output Data/{hem} Hemisphere - {y} vs. Latitude.png\")\n",
    "\n",
    "plt.show()"
   ]
  },
  {
   "cell_type": "markdown",
   "metadata": {},
   "source": [
    "The linear regression models the correlation between latitude and percentage humdity in the northern and southern hemispheres. \n",
    "\n",
    "The models for both the northern and southern hemisphere suggest that there are almost no correlation between the percentage humdity and the latitude, as indicated by the very low r-squared of almost 0."
   ]
  },
  {
   "cell_type": "markdown",
   "metadata": {},
   "source": [
    "####  Northern Hemisphere - Cloudiness (%) vs. Latitude Linear Regression"
   ]
  },
  {
   "cell_type": "code",
   "execution_count": 31,
   "metadata": {},
   "outputs": [
    {
     "name": "stdout",
     "output_type": "stream",
     "text": [
      "The r-squared is: 1.8846432300435265e-06\n"
     ]
    },
    {
     "data": {
      "image/png": "[encoded data removed]",
      "text/plain": [
       "<Figure size 432x288 with 1 Axes>"
      ]
     },
     "metadata": {
      "needs_background": "light"
     },
     "output_type": "display_data"
    }
   ],
   "source": [
    "y = 'Cloudiness (%)'\n",
    "hem = 'Northern'\n",
    "plotweather(northern_hem_df, y, hem)\n",
    "\n",
    "# Save the plot as png file\n",
    "plt.savefig(f\"Output Data/{hem} Hemisphere - {y} vs. Latitude.png\")\n",
    "\n",
    "plt.show()"
   ]
  },
  {
   "cell_type": "markdown",
   "metadata": {},
   "source": [
    "####  Southern Hemisphere - Cloudiness (%) vs. Latitude Linear Regression"
   ]
  },
  {
   "cell_type": "code",
   "execution_count": 32,
   "metadata": {},
   "outputs": [
    {
     "name": "stdout",
     "output_type": "stream",
     "text": [
      "The r-squared is: 0.0031648189593943546\n"
     ]
    },
    {
     "data": {
      "image/png": "[encoded data removed]",
      "text/plain": [
       "<Figure size 432x288 with 1 Axes>"
      ]
     },
     "metadata": {
      "needs_background": "light"
     },
     "output_type": "display_data"
    }
   ],
   "source": [
    "y = 'Cloudiness (%)'\n",
    "hem = 'Southern'\n",
    "plotweather(southern_hem_df, y, hem)\n",
    "\n",
    "# Save the plot as png file\n",
    "plt.savefig(f\"Output Data/{hem} Hemisphere - {y} vs. Latitude.png\")\n",
    "\n",
    "plt.show()"
   ]
  },
  {
   "cell_type": "markdown",
   "metadata": {},
   "source": [
    "The linear regression models the correlation between latitude and percentage cloudiness in the northern and southern hemispheres. \n",
    "\n",
    "The models for both the northern and southern hemisphere suggest that there are almost no correlation between the percentage cloudiness and the latitude, as indicated by the r-squared of almost 0."
   ]
  },
  {
   "cell_type": "markdown",
   "metadata": {},
   "source": [
    "####  Northern Hemisphere - Wind Speed (mph) vs. Latitude Linear Regression"
   ]
  },
  {
   "cell_type": "code",
   "execution_count": 33,
   "metadata": {},
   "outputs": [
    {
     "name": "stdout",
     "output_type": "stream",
     "text": [
      "The r-squared is: 1.6196389686733574e-05\n"
     ]
    },
    {
     "data": {
      "image/png": "[encoded data removed]",
      "text/plain": [
       "<Figure size 432x288 with 1 Axes>"
      ]
     },
     "metadata": {
      "needs_background": "light"
     },
     "output_type": "display_data"
    }
   ],
   "source": [
    "y = 'Wind Speed (mph)'\n",
    "hem = 'Northern'\n",
    "plotweather(northern_hem_df, y, hem)\n",
    "\n",
    "# Save the plot as png file\n",
    "plt.savefig(f\"Output Data/{hem} Hemisphere - {y} vs. Latitude.png\")\n",
    "\n",
    "plt.show()"
   ]
  },
  {
   "cell_type": "markdown",
   "metadata": {},
   "source": [
    "####  Southern Hemisphere - Wind Speed (mph) vs. Latitude Linear Regression"
   ]
  },
  {
   "cell_type": "code",
   "execution_count": 34,
   "metadata": {},
   "outputs": [
    {
     "name": "stdout",
     "output_type": "stream",
     "text": [
      "The r-squared is: 0.0032873524687172186\n"
     ]
    },
    {
     "data": {
      "image/png": "[encoded data removed]",
      "text/plain": [
       "<Figure size 432x288 with 1 Axes>"
      ]
     },
     "metadata": {
      "needs_background": "light"
     },
     "output_type": "display_data"
    }
   ],
   "source": [
    "y = 'Wind Speed (mph)'\n",
    "hem = 'Southern'\n",
    "plotweather(southern_hem_df, y, hem)\n",
    "\n",
    "# Save the plot as png file\n",
    "plt.savefig(f\"Output Data/{hem} Hemisphere - {y} vs. Latitude.png\")\n",
    "\n",
    "plt.show()"
   ]
  },
  {
   "cell_type": "markdown",
   "metadata": {},
   "source": [
    "The linear regression models the correlation between latitude and wind speed in the northern and southern hemispheres.\n",
    "\n",
    "The models for both the northern and southern hemisphere suggest that there are almost no correlation between the wind speed and the latitude, as indicated by the r-squared of essentially 0."
   ]
  },
  {
   "cell_type": "markdown",
   "metadata": {},
   "source": [
    "# Three Observable Trends"
   ]
  },
  {
   "cell_type": "markdown",
   "metadata": {},
   "source": [
    "1. At a glance, there seems to be strong correlation, demonstrating a relationship between maximum temperature and latitude.\n",
    "2. If the cities are located in the northern hemisphere, the maximum temperature tends to increase with the decrease in latitude. If the cities are located in the southern hemisphere, the maximum temperature tends to increase with the increase in latitude. The regression model, however, indicates an overall weak correlation between maximum temperature and latitude.\n",
    "3. The coefficient of correlation between latitude and the weather parameters (max temperature, percentage humidity, percentage cloudiness and wind speed) seem to vary between the hemisphere, i.e. the r-squared value for the northern hemisphere model is better than the r-squared value for the southern hemisphere model, and vice versa."
   ]
  },
  {
   "cell_type": "code",
   "execution_count": null,
   "metadata": {},
   "outputs": [],
   "source": []
  }
 ],
 "metadata": {
  "anaconda-cloud": {},
  "kernel_info": {
   "name": "python3"
  },
  "kernelspec": {
   "display_name": "Python 3",
   "language": "python",
   "name": "python3"
  },
  "language_info": {
   "codemirror_mode": {
    "name": "ipython",
    "version": 3
   },
   "file_extension": ".py",
   "mimetype": "text/x-python",
   "name": "python",
   "nbconvert_exporter": "python",
   "pygments_lexer": "ipython3",
   "version": "3.6.10"
  },
  "latex_envs": {
   "LaTeX_envs_menu_present": true,
   "autoclose": false,
   "autocomplete": true,
   "bibliofile": "biblio.bib",
   "cite_by": "apalike",
   "current_citInitial": 1,
   "eqLabelWithNumbers": true,
   "eqNumInitial": 1,
   "hotkeys": {
    "equation": "Ctrl-E",
    "itemize": "Ctrl-I"
   },
   "labels_anchors": false,
   "latex_user_defs": false,
   "report_style_numbering": false,
   "user_envs_cfg": false
  },
  "nteract": {
   "version": "0.12.3"
  }
 },
 "nbformat": 4,
 "nbformat_minor": 2
}
