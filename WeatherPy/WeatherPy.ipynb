{
 "cells": [
  {
   "cell_type": "markdown",
   "metadata": {},
   "source": [
    "# WeatherPy\n",
    "----\n",
    "\n",
    "#### Note\n",
    "* Instructions have been included for each segment. You do not have to follow them exactly, but they are included to help you think through the steps."
   ]
  },
  {
   "cell_type": "code",
   "execution_count": 1,
   "metadata": {
    "scrolled": true
   },
   "outputs": [
    {
     "data": {
      "text/html": [
       "<div>\n",
       "<style scoped>\n",
       "    .dataframe tbody tr th:only-of-type {\n",
       "        vertical-align: middle;\n",
       "    }\n",
       "\n",
       "    .dataframe tbody tr th {\n",
       "        vertical-align: top;\n",
       "    }\n",
       "\n",
       "    .dataframe thead th {\n",
       "        text-align: right;\n",
       "    }\n",
       "</style>\n",
       "<table border=\"1\" class=\"dataframe\">\n",
       "  <thead>\n",
       "    <tr style=\"text-align: right;\">\n",
       "      <th></th>\n",
       "      <th>City_ID</th>\n",
       "      <th>City</th>\n",
       "      <th>Cloudiness</th>\n",
       "      <th>Country</th>\n",
       "      <th>Date</th>\n",
       "      <th>Humidity</th>\n",
       "      <th>Lat</th>\n",
       "      <th>Lng</th>\n",
       "      <th>Max Temp</th>\n",
       "      <th>Wind Speed</th>\n",
       "    </tr>\n",
       "  </thead>\n",
       "  <tbody>\n",
       "    <tr>\n",
       "      <th>0</th>\n",
       "      <td>0</td>\n",
       "      <td>ostrovnoy</td>\n",
       "      <td>2</td>\n",
       "      <td>RU</td>\n",
       "      <td>1558378754</td>\n",
       "      <td>72</td>\n",
       "      <td>68.05</td>\n",
       "      <td>39.51</td>\n",
       "      <td>37.5</td>\n",
       "      <td>7.16</td>\n",
       "    </tr>\n",
       "    <tr>\n",
       "      <th>1</th>\n",
       "      <td>1</td>\n",
       "      <td>mahebourg</td>\n",
       "      <td>75</td>\n",
       "      <td>MU</td>\n",
       "      <td>1558378503</td>\n",
       "      <td>74</td>\n",
       "      <td>-20.41</td>\n",
       "      <td>57.70</td>\n",
       "      <td>78.8</td>\n",
       "      <td>11.41</td>\n",
       "    </tr>\n",
       "    <tr>\n",
       "      <th>2</th>\n",
       "      <td>2</td>\n",
       "      <td>qaanaaq</td>\n",
       "      <td>25</td>\n",
       "      <td>GL</td>\n",
       "      <td>1558378755</td>\n",
       "      <td>73</td>\n",
       "      <td>77.48</td>\n",
       "      <td>-69.36</td>\n",
       "      <td>22.2</td>\n",
       "      <td>2.37</td>\n",
       "    </tr>\n",
       "  </tbody>\n",
       "</table>\n",
       "</div>"
      ],
      "text/plain": [
       "   City_ID       City  Cloudiness Country        Date  Humidity    Lat    Lng  \\\n",
       "0        0  ostrovnoy           2      RU  1558378754        72  68.05  39.51   \n",
       "1        1  mahebourg          75      MU  1558378503        74 -20.41  57.70   \n",
       "2        2    qaanaaq          25      GL  1558378755        73  77.48 -69.36   \n",
       "\n",
       "   Max Temp  Wind Speed  \n",
       "0      37.5        7.16  \n",
       "1      78.8       11.41  \n",
       "2      22.2        2.37  "
      ]
     },
     "execution_count": 1,
     "metadata": {},
     "output_type": "execute_result"
    }
   ],
   "source": [
    "# Dependencies and Setup\n",
    "import matplotlib.pyplot as plt\n",
    "import pandas as pd\n",
    "import numpy as np\n",
    "import requests\n",
    "import time\n",
    "from scipy.stats import linregress\n",
    "\n",
    "# Import API key\n",
    "from config import weather_api_key\n",
    "\n",
    "# Incorporated citipy to determine city based on latitude and longitude\n",
    "from citipy import citipy\n",
    "\n",
    "# Output File (CSV)\n",
    "cities_df = pd.read_csv(\"../cities.csv\")\n",
    "\n",
    "# Range of latitudes and longitudes\n",
    "lat_range = (-90, 90)\n",
    "lng_range = (-180, 180)\n",
    "\n",
    "cities_df.head(3)"
   ]
  },
  {
   "cell_type": "markdown",
   "metadata": {},
   "source": [
    "## Generate Cities List"
   ]
  },
  {
   "cell_type": "code",
   "execution_count": 40,
   "metadata": {},
   "outputs": [],
   "source": [
    "# List for holding lat_lngs and cities\n",
    "lat_lngs = []\n",
    "cities = []\n",
    "\n",
    "# Create a set of random lat and lng combinations\n",
    "lats = np.random.uniform(lat_range[0], lat_range[1], size=1500)\n",
    "lngs = np.random.uniform(lng_range[0], lng_range[1], size=1500)\n",
    "lat_lngs = zip(lats, lngs)"
   ]
  },
  {
   "cell_type": "code",
   "execution_count": 41,
   "metadata": {},
   "outputs": [],
   "source": [
    "# Identify nearest city for each lat, lng combination\n",
    "for lat_lng in lat_lngs:\n",
    "    city = citipy.nearest_city(lat_lng[0], lat_lng[1]).city_name\n",
    "    \n",
    "    # If the city is unique, then add it to a our cities list\n",
    "    if city not in cities:\n",
    "        cities.append(city)"
   ]
  },
  {
   "cell_type": "code",
   "execution_count": 42,
   "metadata": {},
   "outputs": [
    {
     "data": {
      "text/plain": [
       "597"
      ]
     },
     "execution_count": 42,
     "metadata": {},
     "output_type": "execute_result"
    }
   ],
   "source": [
    "# Print the city count to confirm sufficient count\n",
    "len(cities)"
   ]
  },
  {
   "cell_type": "markdown",
   "metadata": {},
   "source": [
    "### Perform API Calls\n",
    "* Perform a weather check on each city using a series of successive API calls.\n",
    "* Include a print log of each city as it's being processed (with the city number and city name)."
   ]
  },
  {
   "cell_type": "code",
   "execution_count": 43,
   "metadata": {},
   "outputs": [],
   "source": [
    "# Save config information.\n",
    "url = \"http://api.openweathermap.org/data/2.5/weather?\"\n",
    "units = \"imperial\"\n",
    "\n",
    "# Build query URL and request your results in Celsius\n",
    "query_url = f\"{url}appid={weather_api_key}&units={units}&q=\""
   ]
  },
  {
   "cell_type": "code",
   "execution_count": 44,
   "metadata": {},
   "outputs": [
    {
     "name": "stdout",
     "output_type": "stream",
     "text": [
      "[1]: Busselton processed.\n",
      "[2]: Diapaga processed.\n",
      "[3]: Atuona processed.\n",
      "[4]: East London processed.\n",
      "[5]: Chuy processed.\n",
      "[6]: Mataura processed.\n",
      "[7]: Ushuaia processed.\n",
      "[8]: Yar-Sale processed.\n",
      "[9]: Meadow Lake processed.\n",
      "[10]: City not found.\n",
      "[11]: Port Lincoln processed.\n",
      "[12]: Khasan processed.\n",
      "[13]: Jamestown processed.\n",
      "[14]: Camacha processed.\n",
      "[15]: Kaitangata processed.\n",
      "[16]: Vila Franca Do Campo processed.\n",
      "[17]: Yellowknife processed.\n",
      "[18]: City not found.\n",
      "[19]: Geraldton processed.\n",
      "[20]: Chuchkovo processed.\n",
      "[21]: Rikitea processed.\n",
      "[22]: Saryg-Sep processed.\n",
      "[23]: Sola processed.\n",
      "[24]: New Norfolk processed.\n",
      "[25]: Vaini processed.\n",
      "[26]: Kapaa processed.\n",
      "[27]: Kodiak processed.\n",
      "[28]: Lagoa processed.\n",
      "[29]: Tucuman processed.\n",
      "[30]: Carauari processed.\n",
      "[31]: Hermanus processed.\n",
      "[32]: Ancud processed.\n",
      "[33]: Thompson processed.\n",
      "[34]: Muravlenko processed.\n",
      "[35]: City not found.\n",
      "[36]: Albany processed.\n",
      "[37]: Saldanha processed.\n",
      "[38]: Qaqortoq processed.\n",
      "[39]: Sept-Iles processed.\n",
      "[40]: Cidreira processed.\n",
      "[41]: Barrow processed.\n",
      "[42]: Peace River processed.\n",
      "[43]: Eskil processed.\n",
      "[44]: Klaksvik processed.\n",
      "[45]: Panaci processed.\n",
      "[46]: Hobart processed.\n",
      "[47]: Punta Arenas processed.\n",
      "[48]: City not found.\n",
      "[49]: City not found.\n",
      "[50]: Ugoofaaru processed.\n",
      "[51]: Parauna processed.\n",
      "[52]: Vanimo processed.\n",
      "[53]: Norman Wells processed.\n",
      "[54]: Beidao processed.\n",
      "[55]: Romitan processed.\n",
      "[56]: Barcelona processed.\n",
      "[57]: Bambanglipuro processed.\n",
      "[58]: City not found.\n",
      "[59]: Kakinada processed.\n",
      "[60]: Noumea processed.\n",
      "[61]: Svarychiv processed.\n",
      "[62]: Abha processed.\n",
      "[63]: City not found.\n",
      "[64]: City not found.\n",
      "[65]: Nosy Varika processed.\n",
      "[66]: Samarai processed.\n",
      "[67]: Port Alfred processed.\n",
      "[68]: Pisco processed.\n",
      "[69]: Kudahuvadhoo processed.\n",
      "[70]: Grindavik processed.\n",
      "[71]: Puerto Ayora processed.\n",
      "[72]: Dzhebariki-Khaya processed.\n",
      "[73]: Georgetown processed.\n",
      "[74]: Codrington processed.\n",
      "[75]: Lompoc processed.\n",
      "[76]: Muroto processed.\n",
      "[77]: Biala Podlaska processed.\n",
      "[78]: Cherskiy processed.\n",
      "[79]: Talaya processed.\n",
      "[80]: Cape Town processed.\n",
      "[81]: Upernavik processed.\n",
      "[82]: Rock Sound processed.\n",
      "[83]: Landerneau processed.\n",
      "[84]: Qaanaaq processed.\n",
      "[85]: Longyearbyen processed.\n",
      "[86]: Pevek processed.\n",
      "[87]: City not found.\n",
      "[88]: Tubuala processed.\n",
      "[89]: Port Macquarie processed.\n",
      "[90]: Mount Isa processed.\n",
      "[91]: Tiksi processed.\n",
      "[92]: Bucerias processed.\n",
      "[93]: Kloulklubed processed.\n",
      "[94]: Victoria processed.\n",
      "[95]: City not found.\n",
      "[96]: Atar processed.\n",
      "[97]: Ewa Beach processed.\n",
      "[98]: Safaga processed.\n",
      "[99]: Ballina processed.\n",
      "[100]: Mar Del Plata processed.\n",
      "[101]: Mattru processed.\n",
      "[102]: Slave Lake processed.\n",
      "[103]: Castro processed.\n",
      "[104]: Poltavka processed.\n",
      "[105]: City not found.\n",
      "[106]: Butaritari processed.\n",
      "[107]: Ponta Delgada processed.\n",
      "[108]: Arraial Do Cabo processed.\n",
      "[109]: Canby processed.\n",
      "[110]: City not found.\n",
      "[111]: City not found.\n",
      "[112]: Avarua processed.\n",
      "[113]: Bluff processed.\n",
      "[114]: Gat processed.\n",
      "[115]: Bac Lieu processed.\n",
      "[116]: Beloha processed.\n",
      "[117]: Las Palmas processed.\n",
      "[118]: Yarensk processed.\n",
      "[119]: Bethel processed.\n",
      "[120]: Tasiilaq processed.\n",
      "[121]: Rawson processed.\n",
      "[122]: Zapolyarnyy processed.\n",
      "[123]: Hauterive processed.\n",
      "[124]: Khatanga processed.\n",
      "[125]: Iqaluit processed.\n",
      "[126]: Moyamba processed.\n",
      "[127]: Faanui processed.\n",
      "[128]: Caravelas processed.\n",
      "[129]: Sofiyivka processed.\n",
      "[130]: Boa Vista processed.\n",
      "[131]: Touros processed.\n",
      "[132]: Madaoua processed.\n",
      "[133]: Sarahan processed.\n",
      "[134]: Sinnamary processed.\n",
      "[135]: Nikolskoye processed.\n",
      "[136]: Tabas processed.\n",
      "[137]: Bubaque processed.\n",
      "[138]: Chaman processed.\n",
      "[139]: Twentynine Palms processed.\n",
      "[140]: Bodden Town processed.\n",
      "[141]: Airai processed.\n",
      "[142]: Jepelacio processed.\n",
      "[143]: Matagami processed.\n",
      "[144]: Saskylakh processed.\n",
      "[145]: Mastic Beach processed.\n",
      "[146]: Kavieng processed.\n",
      "[147]: Saint-Philippe processed.\n",
      "[148]: Hailar processed.\n",
      "[149]: Ponta Do Sol processed.\n",
      "[150]: Katangli processed.\n",
      "[151]: Murdochville processed.\n",
      "[152]: Pamanukan processed.\n",
      "[153]: Porto Novo processed.\n",
      "[154]: San Cristobal processed.\n",
      "[155]: Chokurdakh processed.\n",
      "[156]: Tuktoyaktuk processed.\n",
      "[157]: Srednekolymsk processed.\n",
      "[158]: Tambura processed.\n",
      "[159]: City not found.\n",
      "[160]: Lasa processed.\n",
      "[161]: Alice Springs processed.\n",
      "[162]: Carnarvon processed.\n",
      "[163]: Pokhara processed.\n",
      "[164]: Savalou processed.\n",
      "[165]: Ilulissat processed.\n",
      "[166]: Staicele processed.\n",
      "[167]: Mozarlandia processed.\n",
      "[168]: Dikson processed.\n",
      "[169]: Okakarara processed.\n",
      "[170]: Hilo processed.\n",
      "[171]: Baghdad processed.\n",
      "[172]: Petersburg processed.\n",
      "[173]: City not found.\n",
      "[174]: Bima processed.\n",
      "[175]: Lebu processed.\n",
      "[176]: City not found.\n",
      "[177]: Olafsvik processed.\n",
      "[178]: Dingle processed.\n",
      "[179]: Guerrero Negro processed.\n",
      "[180]: Salalah processed.\n",
      "[181]: Selje processed.\n",
      "[182]: Naze processed.\n",
      "[183]: Dunedin processed.\n",
      "[184]: Nador processed.\n",
      "[185]: City not found.\n",
      "[186]: Umm Kaddadah processed.\n",
      "[187]: Syava processed.\n",
      "[188]: Cayenne processed.\n",
      "[189]: Ostrovnoy processed.\n",
      "[190]: Bluefield processed.\n",
      "[191]: Luderitz processed.\n",
      "[192]: Mochishche processed.\n",
      "[193]: City not found.\n",
      "[194]: City not found.\n",
      "[195]: Cleethorpes processed.\n",
      "[196]: Niteroi processed.\n",
      "[197]: Bredasdorp processed.\n",
      "[198]: Sorland processed.\n",
      "[199]: Northam processed.\n",
      "[200]: Verkhnevilyuysk processed.\n",
      "[201]: Pinawa processed.\n",
      "[202]: San Quintin processed.\n",
      "[203]: Cockburn Town processed.\n",
      "[204]: Severo-Kurilsk processed.\n",
      "[205]: Oyan processed.\n",
      "[206]: Yinchuan processed.\n",
      "[207]: San Patricio processed.\n",
      "[208]: Kalmunai processed.\n",
      "[209]: Quatre Cocos processed.\n",
      "[210]: Oranjestad processed.\n",
      "[211]: Arlit processed.\n",
      "[212]: Hithadhoo processed.\n",
      "[213]: Cabo San Lucas processed.\n",
      "[214]: City not found.\n",
      "[215]: Rasra processed.\n",
      "[216]: City not found.\n",
      "[217]: City not found.\n",
      "[218]: Jejuri processed.\n",
      "[219]: Altamont processed.\n",
      "[220]: Angermunde processed.\n",
      "[221]: Pochutla processed.\n",
      "[222]: Mahebourg processed.\n",
      "[223]: Eureka processed.\n",
      "[224]: Ibirapitanga processed.\n",
      "[225]: Iraray processed.\n",
      "[226]: Hamilton processed.\n",
      "[227]: Leh processed.\n",
      "[228]: Oksfjord processed.\n",
      "[229]: Waddan processed.\n",
      "[230]: Aklavik processed.\n",
      "[231]: City not found.\n",
      "[232]: Bambous Virieux processed.\n",
      "[233]: Onverwacht processed.\n",
      "[234]: Naryan-Mar processed.\n",
      "[235]: Mlonggo processed.\n",
      "[236]: Devils Lake processed.\n",
      "[237]: Gravdal processed.\n",
      "[238]: Esperance processed.\n",
      "[239]: La Paz processed.\n",
      "[240]: Dalvik processed.\n",
      "[241]: Waipawa processed.\n",
      "[242]: Tres Arroyos processed.\n",
      "[243]: Ribeira Grande processed.\n",
      "[244]: Road Town processed.\n",
      "[245]: Sioux Lookout processed.\n",
      "[246]: Eltham processed.\n",
      "[247]: Steamboat Springs processed.\n",
      "[248]: Yulara processed.\n",
      "[249]: Dhule processed.\n",
      "[250]: Kalabo processed.\n",
      "[251]: City not found.\n",
      "[252]: Seoul processed.\n",
      "[253]: Korla processed.\n",
      "[254]: Uyemskiy processed.\n",
      "[255]: Torbay processed.\n",
      "[256]: City not found.\n",
      "[257]: Mbini processed.\n",
      "[258]: Saint George processed.\n",
      "[259]: Muros processed.\n",
      "[260]: Maracacume processed.\n",
      "[261]: Vardo processed.\n",
      "[262]: Kununurra processed.\n",
      "[263]: Anadyr processed.\n",
      "[264]: Trairi processed.\n",
      "[265]: Zhigansk processed.\n",
      "[266]: Bago processed.\n",
      "[267]: Santarem processed.\n",
      "[268]: Kaka processed.\n",
      "[269]: Constitucion processed.\n",
      "[270]: Mendoza processed.\n",
      "[271]: City not found.\n",
      "[272]: Bang Saphan processed.\n",
      "[273]: City not found.\n",
      "[274]: City not found.\n",
      "[275]: West Bay processed.\n",
      "[276]: Innisfail processed.\n",
      "[277]: Lesnoy processed.\n",
      "[278]: Vestmannaeyjar processed.\n",
      "[279]: Aguimes processed.\n",
      "[280]: Bengkulu processed.\n",
      "[281]: City not found.\n",
      "[282]: Yaan processed.\n",
      "[283]: Marsa Matruh processed.\n",
      "[284]: Oia processed.\n",
      "[285]: Hualmay processed.\n",
      "[286]: Kikwit processed.\n",
      "[287]: Zvenigorod processed.\n",
      "[288]: Avera processed.\n",
      "[289]: Te Anau processed.\n",
      "[290]: City not found.\n",
      "[291]: Lethem processed.\n",
      "[292]: Tautira processed.\n",
      "[293]: Jalingo processed.\n",
      "[294]: City not found.\n",
      "[295]: Borogontsy processed.\n",
      "[296]: Hambantota processed.\n",
      "[297]: Lorengau processed.\n",
      "[298]: Qandala processed.\n",
      "[299]: Port Hardy processed.\n",
      "[300]: Finnsnes processed.\n",
      "[301]: Auki processed.\n",
      "[302]: Baykit processed.\n",
      "[303]: Banda Aceh processed.\n",
      "[304]: Port Hedland processed.\n",
      "[305]: Broome processed.\n",
      "[306]: Wittmund processed.\n",
      "[307]: Agirish processed.\n",
      "[308]: Emerald processed.\n",
      "[309]: Flinders processed.\n",
      "[310]: Hofn processed.\n",
      "[311]: Isangel processed.\n"
     ]
    },
    {
     "name": "stdout",
     "output_type": "stream",
     "text": [
      "[312]: Paamiut processed.\n",
      "[313]: Balkhash processed.\n",
      "[314]: Milkovo processed.\n",
      "[315]: Tucuma processed.\n",
      "[316]: Takoradi processed.\n",
      "[317]: Knysna processed.\n",
      "[318]: Leningradskiy processed.\n",
      "[319]: Carepa processed.\n",
      "[320]: Karratha processed.\n",
      "[321]: Akureyri processed.\n",
      "[322]: Volksrust processed.\n",
      "[323]: Sinazongwe processed.\n",
      "[324]: Shakawe processed.\n",
      "[325]: Lubao processed.\n",
      "[326]: City not found.\n",
      "[327]: Walldurn processed.\n",
      "[328]: Vao processed.\n",
      "[329]: Peterhead processed.\n",
      "[330]: Tual processed.\n",
      "[331]: Yamada processed.\n",
      "[332]: Sur processed.\n",
      "[333]: Gurlan processed.\n",
      "[334]: Pontes E Lacerda processed.\n",
      "[335]: Vanavara processed.\n",
      "[336]: City not found.\n",
      "[337]: Tambacounda processed.\n",
      "[338]: Teluknaga processed.\n",
      "[339]: Labinsk processed.\n",
      "[340]: Loukhi processed.\n",
      "[341]: Lata processed.\n",
      "[342]: Provideniya processed.\n",
      "[343]: Talnakh processed.\n",
      "[344]: Nelson Bay processed.\n",
      "[345]: Baytown processed.\n",
      "[346]: City not found.\n",
      "[347]: Nome processed.\n",
      "[348]: Bathsheba processed.\n",
      "[349]: Ranong processed.\n",
      "[350]: City not found.\n",
      "[351]: Noshiro processed.\n",
      "[352]: Adrar processed.\n",
      "[353]: Villarrica processed.\n",
      "[354]: Viloco processed.\n",
      "[355]: Ola processed.\n",
      "[356]: Komsomolskiy processed.\n",
      "[357]: Tuatapere processed.\n",
      "[358]: Portland processed.\n",
      "[359]: Broken Hill processed.\n",
      "[360]: Hun processed.\n",
      "[361]: Valentin Gomez Farias processed.\n",
      "[362]: Berlevag processed.\n",
      "[363]: Porto Seguro processed.\n",
      "[364]: Sitka processed.\n",
      "[365]: Miraflores processed.\n",
      "[366]: Sirsilla processed.\n",
      "[367]: City not found.\n",
      "[368]: Namibe processed.\n",
      "[369]: Fare processed.\n",
      "[370]: Miranda processed.\n",
      "[371]: Mandalgovi processed.\n",
      "[372]: Kaniama processed.\n",
      "[373]: Westport processed.\n",
      "[374]: Gazojak processed.\n",
      "[375]: Inuvik processed.\n",
      "[376]: Padang processed.\n",
      "[377]: La Ronge processed.\n",
      "[378]: Havoysund processed.\n",
      "[379]: Nakusp processed.\n",
      "[380]: Presidencia Roque Saenz Pena processed.\n",
      "[381]: Fairbanks processed.\n",
      "[382]: Galveston processed.\n",
      "[383]: Mehamn processed.\n",
      "[384]: Nouadhibou processed.\n",
      "[385]: Khandyga processed.\n",
      "[386]: Starosubkhangulovo processed.\n",
      "[387]: Meybod processed.\n",
      "[388]: Alofi processed.\n",
      "[389]: Hami processed.\n",
      "[390]: Kahului processed.\n",
      "[391]: Tomatlan processed.\n",
      "[392]: Hasaki processed.\n",
      "[393]: Kharp processed.\n",
      "[394]: Whitehorse processed.\n",
      "[395]: Lasem processed.\n",
      "[396]: Port Blair processed.\n",
      "[397]: Tazovskiy processed.\n",
      "[398]: George Town processed.\n",
      "[399]: Narsaq processed.\n",
      "[400]: Ejea De Los Caballeros processed.\n",
      "[401]: Corum processed.\n",
      "[402]: Kolyvan processed.\n",
      "[403]: Husavik processed.\n",
      "[404]: Bracebridge processed.\n",
      "[405]: Scarborough processed.\n",
      "[406]: Kankan processed.\n",
      "[407]: Nenjiang processed.\n",
      "[408]: Carlagan processed.\n",
      "[409]: Mutis processed.\n",
      "[410]: Salmo processed.\n",
      "[411]: Kostomuksha processed.\n",
      "[412]: Asau processed.\n",
      "[413]: City not found.\n",
      "[414]: Mayo processed.\n",
      "[415]: Puerto Colombia processed.\n",
      "[416]: Lac Du Bonnet processed.\n",
      "[417]: Warrington processed.\n",
      "[418]: Inyonga processed.\n",
      "[419]: Namatanai processed.\n",
      "[420]: Olinda processed.\n",
      "[421]: Giovinazzo processed.\n",
      "[422]: Besancon processed.\n",
      "[423]: La Palma processed.\n",
      "[424]: City not found.\n",
      "[425]: Nanortalik processed.\n",
      "[426]: Qabaqcol processed.\n",
      "[427]: Labuhan processed.\n",
      "[428]: Andenes processed.\n",
      "[429]: Nishihara processed.\n",
      "[430]: North Bend processed.\n",
      "[431]: Scranton processed.\n",
      "[432]: Jizan processed.\n",
      "[433]: Zeya processed.\n",
      "[434]: Chapais processed.\n",
      "[435]: Richards Bay processed.\n",
      "[436]: Yongan processed.\n",
      "[437]: Havre-Saint-Pierre processed.\n",
      "[438]: Olawa processed.\n",
      "[439]: Hokitika processed.\n",
      "[440]: Eydhafushi processed.\n",
      "[441]: Lluta processed.\n",
      "[442]: Port Elizabeth processed.\n",
      "[443]: Staryy Nadym processed.\n",
      "[444]: Arman processed.\n",
      "[445]: Yuanping processed.\n",
      "[446]: Dwarka processed.\n",
      "[447]: Craigieburn processed.\n",
      "[448]: Beringovskiy processed.\n",
      "[449]: Los Llanos De Aridane processed.\n",
      "[450]: Macia processed.\n",
      "[451]: City not found.\n",
      "[452]: City not found.\n",
      "[453]: Derzhavinsk processed.\n",
      "[454]: Puksoozero processed.\n",
      "[455]: Ghorawal processed.\n",
      "[456]: Palmer processed.\n",
      "[457]: San Pedro processed.\n",
      "[458]: Panaba processed.\n",
      "[459]: City not found.\n",
      "[460]: Kuytun processed.\n",
      "[461]: Katsuura processed.\n",
      "[462]: Shenzhen processed.\n",
      "[463]: Shingu processed.\n",
      "[464]: Kirakira processed.\n",
      "[465]: City not found.\n",
      "[466]: Makakilo City processed.\n",
      "[467]: Channel-Port Aux Basques processed.\n",
      "[468]: Gimli processed.\n",
      "[469]: Nizhniy Tsasuchey processed.\n",
      "[470]: Huntington Beach processed.\n",
      "[471]: Ishigaki processed.\n",
      "[472]: Lavrentiya processed.\n",
      "[473]: Inhambane processed.\n",
      "[474]: Voh processed.\n",
      "[475]: Sangar processed.\n",
      "[476]: City not found.\n",
      "[477]: Taguatinga processed.\n",
      "[478]: City not found.\n",
      "[479]: Kantunilkin processed.\n",
      "[480]: Lunenburg processed.\n",
      "[481]: Kotelnikovo processed.\n",
      "[482]: Saint-Pierre processed.\n",
      "[483]: Farmington processed.\n",
      "[484]: Umea processed.\n",
      "[485]: City not found.\n",
      "[486]: Boqueirao processed.\n",
      "[487]: Poronaysk processed.\n",
      "[488]: Mercedes processed.\n",
      "[489]: Moose Factory processed.\n",
      "[490]: Sattahip processed.\n",
      "[491]: Agua Branca processed.\n",
      "[492]: Nouakchott processed.\n",
      "[493]: Rocha processed.\n",
      "[494]: Santa Cruz processed.\n",
      "[495]: Kashi processed.\n",
      "[496]: Dolores processed.\n",
      "[497]: Huarmey processed.\n",
      "[498]: Isla Vista processed.\n",
      "[499]: Comodoro Rivadavia processed.\n",
      "[500]: Salinopolis processed.\n",
      "[501]: Dongsheng processed.\n",
      "[502]: Ust-Kuyga processed.\n",
      "[503]: Samfya processed.\n",
      "[504]: Eatonton processed.\n",
      "[505]: Pyaozerskiy processed.\n",
      "[506]: Fontanka processed.\n",
      "[507]: Keti Bandar processed.\n",
      "[508]: Mantua processed.\n",
      "[509]: Kinsale processed.\n",
      "[510]: Berberati processed.\n",
      "[511]: Zemio processed.\n",
      "[512]: Chicama processed.\n",
      "[513]: Mount Gambier processed.\n",
      "[514]: Vostok processed.\n",
      "[515]: Kieta processed.\n",
      "[516]: Mandera processed.\n",
      "[517]: Carmen processed.\n",
      "[518]: Tutoia processed.\n",
      "[519]: Baherden processed.\n",
      "[520]: Bud processed.\n",
      "[521]: Sao Jose Da Coroa Grande processed.\n",
      "[522]: Bairiki processed.\n",
      "[523]: Omboue processed.\n",
      "[524]: Pangnirtung processed.\n",
      "[525]: Tynda processed.\n",
      "[526]: Chauk processed.\n",
      "[527]: City not found.\n",
      "[528]: Chara processed.\n",
      "[529]: Behshahr processed.\n",
      "[530]: Ibarra processed.\n",
      "[531]: Gazanjyk processed.\n",
      "[532]: Petrovsk processed.\n",
      "[533]: Arukutti processed.\n",
      "[534]: Sao Filipe processed.\n",
      "[535]: Tuburan processed.\n",
      "[536]: Lampazos De Naranjo processed.\n",
      "[537]: Neuquen processed.\n",
      "[538]: Prince Rupert processed.\n",
      "[539]: Wichian Buri processed.\n",
      "[540]: Redmond processed.\n",
      "[541]: Bandarbeyla processed.\n",
      "[542]: Viesca processed.\n",
      "[543]: Sarangani processed.\n",
      "[544]: Presque Isle processed.\n",
      "[545]: Zitacuaro processed.\n",
      "[546]: Kurilsk processed.\n",
      "[547]: Starkville processed.\n",
      "[548]: Cabedelo processed.\n",
      "[549]: La Joya processed.\n",
      "[550]: Aksu processed.\n",
      "[551]: Upata processed.\n",
      "[552]: Yetkul processed.\n",
      "[553]: Darhan processed.\n",
      "[554]: Shimoda processed.\n",
      "[555]: Silver City processed.\n",
      "[556]: City not found.\n",
      "[557]: Port Hawkesbury processed.\n",
      "[558]: Saint-Joseph processed.\n",
      "[559]: Ulaangom processed.\n",
      "[560]: Hovd processed.\n",
      "[561]: Lola processed.\n",
      "[562]: Kolpashevo processed.\n",
      "[563]: Aswan processed.\n",
      "[564]: Odweyne processed.\n",
      "[565]: Cap Malheureux processed.\n",
      "[566]: Zhezkazgan processed.\n",
      "[567]: Coquimbo processed.\n",
      "[568]: Kavaratti processed.\n",
      "[569]: Luze processed.\n",
      "[570]: City not found.\n",
      "[571]: Valley Station processed.\n",
      "[572]: Nanakuli processed.\n",
      "[573]: Bumba processed.\n",
      "[574]: Longyan processed.\n",
      "[575]: Kasganj processed.\n",
      "[576]: Svetlyy processed.\n",
      "[577]: Nemuro processed.\n",
      "[578]: Tadine processed.\n",
      "[579]: Linxia processed.\n",
      "[580]: Fomboni processed.\n",
      "[581]: Tura processed.\n",
      "[582]: Souillac processed.\n",
      "[583]: Nau processed.\n",
      "[584]: Hlotse processed.\n",
      "[585]: Makurdi processed.\n",
      "[586]: Mafeteng processed.\n",
      "[587]: Petropavlovsk-Kamchatskiy processed.\n",
      "[588]: Ponte Nova processed.\n",
      "[589]: Lalmohan processed.\n",
      "[590]: Tirat Karmel processed.\n",
      "[591]: Palimbang processed.\n",
      "[592]: Ixtapa processed.\n",
      "[593]: Salobrena processed.\n",
      "[594]: Itaituba processed.\n",
      "[595]: Coos Bay processed.\n",
      "[596]: City not found.\n",
      "[597]: San Juan Bautista processed.\n"
     ]
    }
   ],
   "source": [
    "# List for holding temperature of each city\n",
    "temp = []\n",
    "humidity = []\n",
    "cloudiness = []\n",
    "windspeed = []\n",
    "lat = []\n",
    "city_name = []\n",
    "\n",
    "# Loop through the list of cities and perform a request for data on each, while keeping count of the city number\n",
    "for n, city in enumerate(cities, 1):\n",
    "    \n",
    "    # Get weather data\n",
    "    weather_response = requests.get(query_url + city)\n",
    "    weather_json = weather_response.json()\n",
    "       \n",
    "    # Get weather info from JSON response and add to the list -- LOOK BACK AT TRY/EXCEPT\n",
    "    try:    \n",
    "        temp.append(weather_json['main']['temp_max'])\n",
    "        humidity.append(weather_json['main']['humidity'])\n",
    "        cloudiness.append(weather_json['clouds']['all'])\n",
    "        windspeed.append(weather_json['wind']['speed'])\n",
    "        lat.append(weather_json['coord']['lat'])       \n",
    "        city_name.append(city)\n",
    "        # print log of each city as it's being processed (city number and city name).\n",
    "        print(f\"[{n}]: {city.title()} processed.\")\n",
    "        \n",
    "    except:\n",
    "        # Skip over to the new city while counting city\n",
    "        print(f\"[{n}]: City not found.\")\n",
    "        pass\n",
    "    "
   ]
  },
  {
   "cell_type": "code",
   "execution_count": 46,
   "metadata": {},
   "outputs": [
    {
     "data": {
      "text/plain": [
       "548"
      ]
     },
     "execution_count": 46,
     "metadata": {},
     "output_type": "execute_result"
    }
   ],
   "source": [
    "# Checking how many city samples in total\n",
    "len(temp)"
   ]
  },
  {
   "cell_type": "markdown",
   "metadata": {},
   "source": [
    "### Convert Raw Data to DataFrame\n",
    "* Export the city data into a .csv.\n",
    "* Display the DataFrame"
   ]
  },
  {
   "cell_type": "code",
   "execution_count": 49,
   "metadata": {},
   "outputs": [
    {
     "data": {
      "text/html": [
       "<div>\n",
       "<style scoped>\n",
       "    .dataframe tbody tr th:only-of-type {\n",
       "        vertical-align: middle;\n",
       "    }\n",
       "\n",
       "    .dataframe tbody tr th {\n",
       "        vertical-align: top;\n",
       "    }\n",
       "\n",
       "    .dataframe thead th {\n",
       "        text-align: right;\n",
       "    }\n",
       "</style>\n",
       "<table border=\"1\" class=\"dataframe\">\n",
       "  <thead>\n",
       "    <tr style=\"text-align: right;\">\n",
       "      <th></th>\n",
       "      <th>City</th>\n",
       "      <th>Latitude</th>\n",
       "      <th>Max Temperature (F)</th>\n",
       "      <th>Humidity (%)</th>\n",
       "      <th>Cloudiness (%)</th>\n",
       "      <th>Wind Speed (mph)</th>\n",
       "    </tr>\n",
       "  </thead>\n",
       "  <tbody>\n",
       "    <tr>\n",
       "      <th>0</th>\n",
       "      <td>busselton</td>\n",
       "      <td>-33.65</td>\n",
       "      <td>57.00</td>\n",
       "      <td>48</td>\n",
       "      <td>33</td>\n",
       "      <td>20.00</td>\n",
       "    </tr>\n",
       "    <tr>\n",
       "      <th>1</th>\n",
       "      <td>diapaga</td>\n",
       "      <td>12.07</td>\n",
       "      <td>81.72</td>\n",
       "      <td>64</td>\n",
       "      <td>19</td>\n",
       "      <td>5.68</td>\n",
       "    </tr>\n",
       "    <tr>\n",
       "      <th>2</th>\n",
       "      <td>atuona</td>\n",
       "      <td>-9.80</td>\n",
       "      <td>79.70</td>\n",
       "      <td>72</td>\n",
       "      <td>0</td>\n",
       "      <td>17.74</td>\n",
       "    </tr>\n",
       "    <tr>\n",
       "      <th>3</th>\n",
       "      <td>east london</td>\n",
       "      <td>-33.02</td>\n",
       "      <td>63.90</td>\n",
       "      <td>37</td>\n",
       "      <td>0</td>\n",
       "      <td>6.91</td>\n",
       "    </tr>\n",
       "    <tr>\n",
       "      <th>4</th>\n",
       "      <td>chuy</td>\n",
       "      <td>-33.70</td>\n",
       "      <td>64.69</td>\n",
       "      <td>95</td>\n",
       "      <td>100</td>\n",
       "      <td>7.56</td>\n",
       "    </tr>\n",
       "  </tbody>\n",
       "</table>\n",
       "</div>"
      ],
      "text/plain": [
       "          City  Latitude  Max Temperature (F)  Humidity (%)  Cloudiness (%)  \\\n",
       "0    busselton    -33.65                57.00            48              33   \n",
       "1      diapaga     12.07                81.72            64              19   \n",
       "2       atuona     -9.80                79.70            72               0   \n",
       "3  east london    -33.02                63.90            37               0   \n",
       "4         chuy    -33.70                64.69            95             100   \n",
       "\n",
       "   Wind Speed (mph)  \n",
       "0             20.00  \n",
       "1              5.68  \n",
       "2             17.74  \n",
       "3              6.91  \n",
       "4              7.56  "
      ]
     },
     "execution_count": 49,
     "metadata": {},
     "output_type": "execute_result"
    }
   ],
   "source": [
    "cities_api_data_df = pd.DataFrame({\n",
    "    \"City\": city_name,\n",
    "    \"Latitude\": lat,\n",
    "    \"Max Temperature (F)\": temp,\n",
    "    \"Humidity (%)\": humidity,\n",
    "    \"Cloudiness (%)\": cloudiness,\n",
    "    \"Wind Speed (mph)\": windspeed\n",
    "    })\n",
    "\n",
    "# Save Data to csv\n",
    "cities_api_data_df.to_csv(\"City_Data.csv\")\n",
    "cities_api_data_df.head()"
   ]
  },
  {
   "cell_type": "markdown",
   "metadata": {},
   "source": [
    "## Inspect the data and remove the cities where the humidity > 100%.\n",
    "----\n",
    "Skip this step if there are no cities that have humidity > 100%. "
   ]
  },
  {
   "cell_type": "code",
   "execution_count": 50,
   "metadata": {},
   "outputs": [
    {
     "data": {
      "text/html": [
       "<div>\n",
       "<style scoped>\n",
       "    .dataframe tbody tr th:only-of-type {\n",
       "        vertical-align: middle;\n",
       "    }\n",
       "\n",
       "    .dataframe tbody tr th {\n",
       "        vertical-align: top;\n",
       "    }\n",
       "\n",
       "    .dataframe thead th {\n",
       "        text-align: right;\n",
       "    }\n",
       "</style>\n",
       "<table border=\"1\" class=\"dataframe\">\n",
       "  <thead>\n",
       "    <tr style=\"text-align: right;\">\n",
       "      <th></th>\n",
       "      <th>City</th>\n",
       "      <th>Latitude</th>\n",
       "      <th>Max Temperature (F)</th>\n",
       "      <th>Humidity (%)</th>\n",
       "      <th>Cloudiness (%)</th>\n",
       "      <th>Wind Speed (mph)</th>\n",
       "    </tr>\n",
       "  </thead>\n",
       "  <tbody>\n",
       "  </tbody>\n",
       "</table>\n",
       "</div>"
      ],
      "text/plain": [
       "Empty DataFrame\n",
       "Columns: [City, Latitude, Max Temperature (F), Humidity (%), Cloudiness (%), Wind Speed (mph)]\n",
       "Index: []"
      ]
     },
     "execution_count": 50,
     "metadata": {},
     "output_type": "execute_result"
    }
   ],
   "source": [
    "### USE THE STUFF HERE FOR GOING FORWARD WITH THE REST OF THE HW\n",
    "humidity100_df = cities_api_data_df.loc[cities_api_data_df['Humidity (%)'] > 100, :]\n",
    "humidity100_df.head(3)"
   ]
  },
  {
   "cell_type": "code",
   "execution_count": 51,
   "metadata": {},
   "outputs": [
    {
     "data": {
      "text/plain": [
       "array([], dtype=int32)"
      ]
     },
     "execution_count": 51,
     "metadata": {},
     "output_type": "execute_result"
    }
   ],
   "source": [
    "#  Get the indices of cities that have humidity over 100%.\n",
    "# https://stackoverflow.com/questions/41217310/get-index-of-a-row-of-a-pandas-dataframe-as-an-integer/42853445\n",
    "humidity100_index = cities_api_data_df.loc[cities_api_data_df['Humidity (%)'] > 100, :].index.values.astype(int)\n",
    "humidity100_index"
   ]
  },
  {
   "cell_type": "code",
   "execution_count": null,
   "metadata": {},
   "outputs": [],
   "source": [
    "# Make a new DataFrame equal to the city data to drop all humidity outliers by index.\n",
    "# Passing \"inplace=False\" will make a copy of the city_data DataFrame, which we call \"clean_city_data\".\n"
   ]
  },
  {
   "cell_type": "code",
   "execution_count": 31,
   "metadata": {},
   "outputs": [
    {
     "data": {
      "text/html": [
       "<div>\n",
       "<style scoped>\n",
       "    .dataframe tbody tr th:only-of-type {\n",
       "        vertical-align: middle;\n",
       "    }\n",
       "\n",
       "    .dataframe tbody tr th {\n",
       "        vertical-align: top;\n",
       "    }\n",
       "\n",
       "    .dataframe thead th {\n",
       "        text-align: right;\n",
       "    }\n",
       "</style>\n",
       "<table border=\"1\" class=\"dataframe\">\n",
       "  <thead>\n",
       "    <tr style=\"text-align: right;\">\n",
       "      <th></th>\n",
       "      <th>City</th>\n",
       "      <th>Latitude</th>\n",
       "      <th>Temperature</th>\n",
       "      <th>Humidity (%)</th>\n",
       "      <th>Cloudiness (%)</th>\n",
       "      <th>Wind Speed (mph)</th>\n",
       "    </tr>\n",
       "  </thead>\n",
       "  <tbody>\n",
       "    <tr>\n",
       "      <th>0</th>\n",
       "      <td>jamestown</td>\n",
       "      <td>42.10</td>\n",
       "      <td>69.98</td>\n",
       "      <td>78</td>\n",
       "      <td>90</td>\n",
       "      <td>8.05</td>\n",
       "    </tr>\n",
       "    <tr>\n",
       "      <th>1</th>\n",
       "      <td>narsaq</td>\n",
       "      <td>60.92</td>\n",
       "      <td>51.80</td>\n",
       "      <td>66</td>\n",
       "      <td>54</td>\n",
       "      <td>6.93</td>\n",
       "    </tr>\n",
       "    <tr>\n",
       "      <th>2</th>\n",
       "      <td>semnan</td>\n",
       "      <td>35.57</td>\n",
       "      <td>85.50</td>\n",
       "      <td>13</td>\n",
       "      <td>0</td>\n",
       "      <td>2.91</td>\n",
       "    </tr>\n",
       "    <tr>\n",
       "      <th>3</th>\n",
       "      <td>ushuaia</td>\n",
       "      <td>-54.80</td>\n",
       "      <td>32.00</td>\n",
       "      <td>83</td>\n",
       "      <td>0</td>\n",
       "      <td>3.36</td>\n",
       "    </tr>\n",
       "    <tr>\n",
       "      <th>4</th>\n",
       "      <td>meulaboh</td>\n",
       "      <td>4.14</td>\n",
       "      <td>81.32</td>\n",
       "      <td>76</td>\n",
       "      <td>100</td>\n",
       "      <td>3.24</td>\n",
       "    </tr>\n",
       "    <tr>\n",
       "      <th>...</th>\n",
       "      <td>...</td>\n",
       "      <td>...</td>\n",
       "      <td>...</td>\n",
       "      <td>...</td>\n",
       "      <td>...</td>\n",
       "      <td>...</td>\n",
       "    </tr>\n",
       "    <tr>\n",
       "      <th>536</th>\n",
       "      <td>college</td>\n",
       "      <td>64.86</td>\n",
       "      <td>50.97</td>\n",
       "      <td>81</td>\n",
       "      <td>75</td>\n",
       "      <td>10.29</td>\n",
       "    </tr>\n",
       "    <tr>\n",
       "      <th>537</th>\n",
       "      <td>lahaina</td>\n",
       "      <td>20.88</td>\n",
       "      <td>80.42</td>\n",
       "      <td>58</td>\n",
       "      <td>75</td>\n",
       "      <td>14.99</td>\n",
       "    </tr>\n",
       "    <tr>\n",
       "      <th>538</th>\n",
       "      <td>parry sound</td>\n",
       "      <td>45.35</td>\n",
       "      <td>69.01</td>\n",
       "      <td>73</td>\n",
       "      <td>100</td>\n",
       "      <td>1.43</td>\n",
       "    </tr>\n",
       "    <tr>\n",
       "      <th>539</th>\n",
       "      <td>changqing</td>\n",
       "      <td>36.56</td>\n",
       "      <td>84.99</td>\n",
       "      <td>62</td>\n",
       "      <td>100</td>\n",
       "      <td>1.01</td>\n",
       "    </tr>\n",
       "    <tr>\n",
       "      <th>540</th>\n",
       "      <td>homer</td>\n",
       "      <td>59.64</td>\n",
       "      <td>60.04</td>\n",
       "      <td>72</td>\n",
       "      <td>1</td>\n",
       "      <td>10.29</td>\n",
       "    </tr>\n",
       "  </tbody>\n",
       "</table>\n",
       "<p>541 rows × 6 columns</p>\n",
       "</div>"
      ],
      "text/plain": [
       "            City  Latitude  Temperature  Humidity (%)  Cloudiness (%)  \\\n",
       "0      jamestown     42.10        69.98            78              90   \n",
       "1         narsaq     60.92        51.80            66              54   \n",
       "2         semnan     35.57        85.50            13               0   \n",
       "3        ushuaia    -54.80        32.00            83               0   \n",
       "4       meulaboh      4.14        81.32            76             100   \n",
       "..           ...       ...          ...           ...             ...   \n",
       "536      college     64.86        50.97            81              75   \n",
       "537      lahaina     20.88        80.42            58              75   \n",
       "538  parry sound     45.35        69.01            73             100   \n",
       "539    changqing     36.56        84.99            62             100   \n",
       "540        homer     59.64        60.04            72               1   \n",
       "\n",
       "     Wind Speed (mph)  \n",
       "0                8.05  \n",
       "1                6.93  \n",
       "2                2.91  \n",
       "3                3.36  \n",
       "4                3.24  \n",
       "..                ...  \n",
       "536             10.29  \n",
       "537             14.99  \n",
       "538              1.43  \n",
       "539              1.01  \n",
       "540             10.29  \n",
       "\n",
       "[541 rows x 6 columns]"
      ]
     },
     "execution_count": 31,
     "metadata": {},
     "output_type": "execute_result"
    }
   ],
   "source": [
    "# Extract relevant fields from the data frame\n",
    "# Export the City_Data into a csv"
   ]
  },
  {
   "cell_type": "markdown",
   "metadata": {},
   "source": [
    "## Plotting the Data\n",
    "* Use proper labeling of the plots using plot titles (including date of analysis) and axes labels.\n",
    "* Save the plotted figures as .pngs."
   ]
  },
  {
   "cell_type": "markdown",
   "metadata": {},
   "source": [
    "## Latitude vs. Temperature Plot"
   ]
  },
  {
   "cell_type": "code",
   "execution_count": 67,
   "metadata": {
    "scrolled": true
   },
   "outputs": [
    {
     "data": {
      "image/png": "[encoded data removed]",
      "text/plain": [
       "<Figure size 504x360 with 1 Axes>"
      ]
     },
     "metadata": {
      "needs_background": "light"
     },
     "output_type": "display_data"
    }
   ],
   "source": [
    "cities_api_data_df.plot(kind='scatter', x='Latitude', y='Max Temperature (F)', title='City Latitude VS Maximum Temperature (7/22/20)', grid=True, figsize=(7,5))\n",
    "plt.savefig(\"Output Image/latitude_maxT.png\")\n",
    "plt.show()"
   ]
  },
  {
   "cell_type": "markdown",
   "metadata": {},
   "source": [
    "## Latitude vs. Humidity Plot"
   ]
  },
  {
   "cell_type": "code",
   "execution_count": 68,
   "metadata": {
    "scrolled": true
   },
   "outputs": [
    {
     "data": {
      "image/png": "[encoded data removed]",
      "text/plain": [
       "<Figure size 504x360 with 1 Axes>"
      ]
     },
     "metadata": {
      "needs_background": "light"
     },
     "output_type": "display_data"
    }
   ],
   "source": [
    "cities_api_data_df.plot(kind='scatter', x='Latitude', y='Humidity (%)', title='City Latitude VS Humidity (7/22/20)', grid=True, figsize=(7,5))\n",
    "plt.savefig(\"Output Image/latitude_humidity.png\")\n",
    "plt.show()"
   ]
  },
  {
   "cell_type": "markdown",
   "metadata": {},
   "source": [
    "## Latitude vs. Cloudiness Plot"
   ]
  },
  {
   "cell_type": "code",
   "execution_count": 69,
   "metadata": {},
   "outputs": [
    {
     "data": {
      "image/png": "[encoded data removed]",
      "text/plain": [
       "<Figure size 504x360 with 1 Axes>"
      ]
     },
     "metadata": {
      "needs_background": "light"
     },
     "output_type": "display_data"
    }
   ],
   "source": [
    "cities_api_data_df.plot(kind='scatter', x='Latitude', y='Cloudiness (%)', title='City Latitude VS Cloudiness (7/22/20)', grid=True, figsize=(7,5))\n",
    "plt.savefig(\"Output Image/latitude_cloudiness.png\")\n",
    "plt.show()"
   ]
  },
  {
   "cell_type": "markdown",
   "metadata": {},
   "source": [
    "## Latitude vs. Wind Speed Plot"
   ]
  },
  {
   "cell_type": "code",
   "execution_count": 70,
   "metadata": {},
   "outputs": [
    {
     "data": {
      "image/png": "[encoded data removed]",
      "text/plain": [
       "<Figure size 504x360 with 1 Axes>"
      ]
     },
     "metadata": {
      "needs_background": "light"
     },
     "output_type": "display_data"
    }
   ],
   "source": [
    "cities_api_data_df.plot(kind='scatter', x='Latitude', y='Wind Speed (mph)', title='City Latitude VS Wind Speed (7/22/20)', grid=True, figsize=(7,5))\n",
    "plt.savefig(\"Output Image/latitude_windspeed.png\")\n",
    "plt.show()"
   ]
  },
  {
   "cell_type": "markdown",
   "metadata": {},
   "source": [
    "## Linear Regression"
   ]
  },
  {
   "cell_type": "code",
   "execution_count": 82,
   "metadata": {},
   "outputs": [],
   "source": [
    "# Create Northern and Southern Hemisphere DataFrames\n",
    "northern_hem_df = cities_api_data_df.loc[cities_api_data_df['Latitude'] >= 0, :]\n",
    "southern_hem_df = cities_api_data_df.loc[cities_api_data_df['Latitude'] < 0, :]\n",
    "cities_api_data_df"
   ]
  },
  {
   "cell_type": "code",
   "execution_count": 143,
   "metadata": {},
   "outputs": [],
   "source": [
    "# OPTIONAL: Create a function to create Linear Regression plots\n",
    "def plotweather(df,y, hem):\n",
    "    # Scatter plot\n",
    "    plt.xlabel('Latitude')\n",
    "    plt.ylabel(y)\n",
    "    plt.title(f'{hem} Hemisphere - {y} vs. Latitude (7/22/20)')\n",
    "    x = df['Latitude']\n",
    "    y = df[y]\n",
    "    plt.scatter(x, y)\n",
    "    \n",
    "    # Add linear regression line\n",
    "    (slope, intercept, rvalue, pvalue, stderr) = linregress(x, y)\n",
    "    regress = x * slope + intercept\n",
    "    plt.plot(x,regress,\"r-\")\n",
    "    print(f\"The r-squared is: {rvalue**2}\")"
   ]
  },
  {
   "cell_type": "markdown",
   "metadata": {},
   "source": [
    "####  Northern Hemisphere - Max Temp vs. Latitude Linear Regression"
   ]
  },
  {
   "cell_type": "code",
   "execution_count": 144,
   "metadata": {
    "scrolled": true
   },
   "outputs": [
    {
     "name": "stdout",
     "output_type": "stream",
     "text": [
      "The r-squared is: 0.49124390176391053\n"
     ]
    },
    {
     "data": {
      "image/png": "[encoded data removed]",
      "text/plain": [
       "<Figure size 432x288 with 1 Axes>"
      ]
     },
     "metadata": {
      "needs_background": "light"
     },
     "output_type": "display_data"
    }
   ],
   "source": [
    "y = 'Max Temperature (F)'\n",
    "hem = 'Northern'\n",
    "plotweather(northern_hem_df, y, hem)\n",
    "    \n",
    "# Save the plot as png file\n",
    "plt.savefig(f\"Output Image/{hem} Hemisphere - {y} vs. Latitude.png\")\n",
    "\n",
    "plt.show()"
   ]
  },
  {
   "cell_type": "markdown",
   "metadata": {},
   "source": [
    "####  Southern Hemisphere - Max Temp vs. Latitude Linear Regression"
   ]
  },
  {
   "cell_type": "code",
   "execution_count": 145,
   "metadata": {},
   "outputs": [
    {
     "name": "stdout",
     "output_type": "stream",
     "text": [
      "The r-squared is: 0.6575019722431825\n"
     ]
    },
    {
     "data": {
      "image/png": "[encoded data removed]",
      "text/plain": [
       "<Figure size 432x288 with 1 Axes>"
      ]
     },
     "metadata": {
      "needs_background": "light"
     },
     "output_type": "display_data"
    }
   ],
   "source": [
    "y = 'Max Temperature (F)'\n",
    "hem = 'Southern'\n",
    "plotweather(southern_hem_df, y, hem)\n",
    "\n",
    "# Save the plot as png file\n",
    "plt.savefig(f\"Output Image/{hem} Hemisphere - {y} vs. Latitude.png\")\n",
    "\n",
    "plt.show()"
   ]
  },
  {
   "cell_type": "markdown",
   "metadata": {},
   "source": [
    "The linear regression models the correlation between latitude and maximum temperature in the northern and southern hemispheres. \n",
    "\n",
    "The model for the northern hemisphere illustrates a negative correlation between the latitude and the maximum tempeature. As the latitude increases, the maximum temperature decreases.\n",
    "\n",
    "The model for the southern hemisphere illustrates a positive correlation between the latitude and the maximum tempeature. As the latitude increases, the maximum temperature also increases. The r-squared of ~0.658 indicates a stronger correlation, compared to the norther hemisphere model (r-squared of ~0.491)."
   ]
  },
  {
   "cell_type": "markdown",
   "metadata": {},
   "source": [
    "####  Northern Hemisphere - Humidity (%) vs. Latitude Linear Regression"
   ]
  },
  {
   "cell_type": "code",
   "execution_count": 130,
   "metadata": {},
   "outputs": [
    {
     "name": "stdout",
     "output_type": "stream",
     "text": [
      "The r-squared is: 0.0033481819552746224\n"
     ]
    },
    {
     "data": {
      "image/png": "[encoded data removed]",
      "text/plain": [
       "<Figure size 432x288 with 1 Axes>"
      ]
     },
     "metadata": {
      "needs_background": "light"
     },
     "output_type": "display_data"
    }
   ],
   "source": [
    "y = 'Humidity (%)'\n",
    "hem = 'Northern'\n",
    "plotweather(northern_hem_df, y, hem)\n",
    "\n",
    "# Save the plot as png file\n",
    "plt.savefig(f\"Output Image/{hem} Hemisphere - {y} vs. Latitude.png\")\n",
    "\n",
    "plt.show()"
   ]
  },
  {
   "cell_type": "markdown",
   "metadata": {},
   "source": [
    "####  Southern Hemisphere - Humidity (%) vs. Latitude Linear Regression"
   ]
  },
  {
   "cell_type": "code",
   "execution_count": 131,
   "metadata": {},
   "outputs": [
    {
     "name": "stdout",
     "output_type": "stream",
     "text": [
      "The r-squared is: 0.025499798275576746\n"
     ]
    },
    {
     "data": {
      "image/png": "[encoded data removed]",
      "text/plain": [
       "<Figure size 432x288 with 1 Axes>"
      ]
     },
     "metadata": {
      "needs_background": "light"
     },
     "output_type": "display_data"
    }
   ],
   "source": [
    "y = 'Humidity (%)'\n",
    "hem = 'Southern'\n",
    "plotweather(southern_hem_df, y, hem)\n",
    "\n",
    "# Save the plot as png file\n",
    "plt.savefig(f\"Output Image/{hem} Hemisphere - {y} vs. Latitude.png\")\n",
    "\n",
    "plt.show()"
   ]
  },
  {
   "cell_type": "markdown",
   "metadata": {},
   "source": [
    "The linear regression models the correlation between latitude and percentage humdity in the northern and southern hemispheres. \n",
    "\n",
    "The model for both the northern and southern hemisphere illustrates that the percentage humidity decreases with an increase in the latitude. The regression indicates a very weak negative correlation between the latitude and the percentage humidity for both models. "
   ]
  },
  {
   "cell_type": "markdown",
   "metadata": {},
   "source": [
    "####  Northern Hemisphere - Cloudiness (%) vs. Latitude Linear Regression"
   ]
  },
  {
   "cell_type": "code",
   "execution_count": 132,
   "metadata": {},
   "outputs": [
    {
     "name": "stdout",
     "output_type": "stream",
     "text": [
      "The r-squared is: 0.0023430509243641093\n"
     ]
    },
    {
     "data": {
      "image/png": "[encoded data removed]",
      "text/plain": [
       "<Figure size 432x288 with 1 Axes>"
      ]
     },
     "metadata": {
      "needs_background": "light"
     },
     "output_type": "display_data"
    }
   ],
   "source": [
    "y = 'Cloudiness (%)'\n",
    "hem = 'Northern'\n",
    "plotweather(northern_hem_df, y, hem)\n",
    "\n",
    "# Save the plot as png file\n",
    "plt.savefig(f\"Output Image/{hem} Hemisphere - {y} vs. Latitude.png\")\n",
    "\n",
    "plt.show()"
   ]
  },
  {
   "cell_type": "markdown",
   "metadata": {},
   "source": [
    "####  Southern Hemisphere - Cloudiness (%) vs. Latitude Linear Regression"
   ]
  },
  {
   "cell_type": "code",
   "execution_count": 133,
   "metadata": {},
   "outputs": [
    {
     "name": "stdout",
     "output_type": "stream",
     "text": [
      "The r-squared is: 0.02978427939445312\n"
     ]
    },
    {
     "data": {
      "image/png": "[encoded data removed]",
      "text/plain": [
       "<Figure size 432x288 with 1 Axes>"
      ]
     },
     "metadata": {
      "needs_background": "light"
     },
     "output_type": "display_data"
    }
   ],
   "source": [
    "y = 'Cloudiness (%)'\n",
    "hem = 'Southern'\n",
    "plotweather(southern_hem_df, y, hem)\n",
    "\n",
    "# Save the plot as png file\n",
    "plt.savefig(f\"Output Image/{hem} Hemisphere - {y} vs. Latitude.png\")\n",
    "\n",
    "plt.show()"
   ]
  },
  {
   "cell_type": "markdown",
   "metadata": {},
   "source": [
    "The linear regression models the correlation between latitude and percentage cloudiness in the northern and southern hemispheres. \n",
    "\n",
    "The model for the northern hemisphere illustrates that there are almost no correlation between the percentage cloudiness and the latitude, as indicated by the r-squared of almost 0. \n",
    "\n",
    "The model for the southern hemisphere, however, illustrates a weak negative correlation between the latitude and the percentage cloudiness. Even though the r-sqared for the model of the southern hemisphere is higher than the model for the northern hemisphere, the correlation is still considered very weak."
   ]
  },
  {
   "cell_type": "markdown",
   "metadata": {},
   "source": [
    "####  Northern Hemisphere - Wind Speed (mph) vs. Latitude Linear Regression"
   ]
  },
  {
   "cell_type": "code",
   "execution_count": 134,
   "metadata": {},
   "outputs": [
    {
     "name": "stdout",
     "output_type": "stream",
     "text": [
      "The r-squared is: 0.0001620296233400881\n"
     ]
    },
    {
     "data": {
      "image/png": "[encoded data removed]",
      "text/plain": [
       "<Figure size 432x288 with 1 Axes>"
      ]
     },
     "metadata": {
      "needs_background": "light"
     },
     "output_type": "display_data"
    }
   ],
   "source": [
    "y = 'Wind Speed (mph)'\n",
    "hem = 'Northern'\n",
    "plotweather(northern_hem_df, y, hem)\n",
    "\n",
    "# Save the plot as png file\n",
    "plt.savefig(f\"Output Image/{hem} Hemisphere - {y} vs. Latitude.png\")\n",
    "\n",
    "plt.show()"
   ]
  },
  {
   "cell_type": "markdown",
   "metadata": {},
   "source": [
    "####  Southern Hemisphere - Wind Speed (mph) vs. Latitude Linear Regression"
   ]
  },
  {
   "cell_type": "code",
   "execution_count": 135,
   "metadata": {},
   "outputs": [
    {
     "name": "stdout",
     "output_type": "stream",
     "text": [
      "The r-squared is: 0.00013265476647048144\n"
     ]
    },
    {
     "data": {
      "image/png": "[encoded data removed]",
      "text/plain": [
       "<Figure size 432x288 with 1 Axes>"
      ]
     },
     "metadata": {
      "needs_background": "light"
     },
     "output_type": "display_data"
    }
   ],
   "source": [
    "y = 'Wind Speed (mph)'\n",
    "hem = 'Southern'\n",
    "plotweather(southern_hem_df, y, hem)\n",
    "\n",
    "# Save the plot as png file\n",
    "plt.savefig(f\"Output Image/{hem} Hemisphere - {y} vs. Latitude.png\")\n",
    "\n",
    "plt.show()"
   ]
  },
  {
   "cell_type": "markdown",
   "metadata": {},
   "source": [
    "The linear regression models the correlation between latitude and wind speed in the northern and southern hemispheres.\n",
    "\n",
    "The models for both the northern and southern hemisphere illustrate that there are almost no correlation between the wind speed and the latitude, as indicated by the r-squared of almost 0."
   ]
  }
 ],
 "metadata": {
  "anaconda-cloud": {},
  "kernel_info": {
   "name": "python3"
  },
  "kernelspec": {
   "display_name": "Python 3",
   "language": "python",
   "name": "python3"
  },
  "language_info": {
   "codemirror_mode": {
    "name": "ipython",
    "version": 3
   },
   "file_extension": ".py",
   "mimetype": "text/x-python",
   "name": "python",
   "nbconvert_exporter": "python",
   "pygments_lexer": "ipython3",
   "version": "3.6.10"
  },
  "latex_envs": {
   "LaTeX_envs_menu_present": true,
   "autoclose": false,
   "autocomplete": true,
   "bibliofile": "biblio.bib",
   "cite_by": "apalike",
   "current_citInitial": 1,
   "eqLabelWithNumbers": true,
   "eqNumInitial": 1,
   "hotkeys": {
    "equation": "Ctrl-E",
    "itemize": "Ctrl-I"
   },
   "labels_anchors": false,
   "latex_user_defs": false,
   "report_style_numbering": false,
   "user_envs_cfg": false
  },
  "nteract": {
   "version": "0.12.3"
  }
 },
 "nbformat": 4,
 "nbformat_minor": 2
}
