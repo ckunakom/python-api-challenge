{
 "cells": [
  {
   "cell_type": "markdown",
   "metadata": {},
   "source": [
    "# WeatherPy\n",
    "----\n",
    "\n",
    "#### Note\n",
    "* Instructions have been included for each segment. You do not have to follow them exactly, but they are included to help you think through the steps."
   ]
  },
  {
   "cell_type": "code",
   "execution_count": 1,
   "metadata": {
    "scrolled": true
   },
   "outputs": [
    {
     "data": {
      "text/html": [
       "<div>\n",
       "<style scoped>\n",
       "    .dataframe tbody tr th:only-of-type {\n",
       "        vertical-align: middle;\n",
       "    }\n",
       "\n",
       "    .dataframe tbody tr th {\n",
       "        vertical-align: top;\n",
       "    }\n",
       "\n",
       "    .dataframe thead th {\n",
       "        text-align: right;\n",
       "    }\n",
       "</style>\n",
       "<table border=\"1\" class=\"dataframe\">\n",
       "  <thead>\n",
       "    <tr style=\"text-align: right;\">\n",
       "      <th></th>\n",
       "      <th>City_ID</th>\n",
       "      <th>City</th>\n",
       "      <th>Cloudiness</th>\n",
       "      <th>Country</th>\n",
       "      <th>Date</th>\n",
       "      <th>Humidity</th>\n",
       "      <th>Lat</th>\n",
       "      <th>Lng</th>\n",
       "      <th>Max Temp</th>\n",
       "      <th>Wind Speed</th>\n",
       "    </tr>\n",
       "  </thead>\n",
       "  <tbody>\n",
       "    <tr>\n",
       "      <th>0</th>\n",
       "      <td>0</td>\n",
       "      <td>ostrovnoy</td>\n",
       "      <td>2</td>\n",
       "      <td>RU</td>\n",
       "      <td>1558378754</td>\n",
       "      <td>72</td>\n",
       "      <td>68.05</td>\n",
       "      <td>39.51</td>\n",
       "      <td>37.5</td>\n",
       "      <td>7.16</td>\n",
       "    </tr>\n",
       "    <tr>\n",
       "      <th>1</th>\n",
       "      <td>1</td>\n",
       "      <td>mahebourg</td>\n",
       "      <td>75</td>\n",
       "      <td>MU</td>\n",
       "      <td>1558378503</td>\n",
       "      <td>74</td>\n",
       "      <td>-20.41</td>\n",
       "      <td>57.70</td>\n",
       "      <td>78.8</td>\n",
       "      <td>11.41</td>\n",
       "    </tr>\n",
       "    <tr>\n",
       "      <th>2</th>\n",
       "      <td>2</td>\n",
       "      <td>qaanaaq</td>\n",
       "      <td>25</td>\n",
       "      <td>GL</td>\n",
       "      <td>1558378755</td>\n",
       "      <td>73</td>\n",
       "      <td>77.48</td>\n",
       "      <td>-69.36</td>\n",
       "      <td>22.2</td>\n",
       "      <td>2.37</td>\n",
       "    </tr>\n",
       "  </tbody>\n",
       "</table>\n",
       "</div>"
      ],
      "text/plain": [
       "   City_ID       City  Cloudiness Country        Date  Humidity    Lat    Lng  \\\n",
       "0        0  ostrovnoy           2      RU  1558378754        72  68.05  39.51   \n",
       "1        1  mahebourg          75      MU  1558378503        74 -20.41  57.70   \n",
       "2        2    qaanaaq          25      GL  1558378755        73  77.48 -69.36   \n",
       "\n",
       "   Max Temp  Wind Speed  \n",
       "0      37.5        7.16  \n",
       "1      78.8       11.41  \n",
       "2      22.2        2.37  "
      ]
     },
     "execution_count": 1,
     "metadata": {},
     "output_type": "execute_result"
    }
   ],
   "source": [
    "# Dependencies and Setup\n",
    "import matplotlib.pyplot as plt\n",
    "import pandas as pd\n",
    "import numpy as np\n",
    "import requests\n",
    "import time\n",
    "from scipy.stats import linregress\n",
    "\n",
    "# Import API key\n",
    "from config import weather_api_key\n",
    "\n",
    "# Incorporated citipy to determine city based on latitude and longitude\n",
    "from citipy import citipy\n",
    "\n",
    "# Output File (CSV)\n",
    "cities_df = pd.read_csv(\"../cities.csv\")\n",
    "\n",
    "# Range of latitudes and longitudes\n",
    "lat_range = (-90, 90)\n",
    "lng_range = (-180, 180)\n",
    "\n",
    "cities_df.head(3)"
   ]
  },
  {
   "cell_type": "markdown",
   "metadata": {},
   "source": [
    "## Generate Cities List"
   ]
  },
  {
   "cell_type": "code",
   "execution_count": 2,
   "metadata": {},
   "outputs": [],
   "source": [
    "# List for holding lat_lngs and cities\n",
    "lat_lngs = []\n",
    "cities = []\n",
    "\n",
    "# Create a set of random lat and lng combinations\n",
    "lats = np.random.uniform(lat_range[0], lat_range[1], size=1500)\n",
    "lngs = np.random.uniform(lng_range[0], lng_range[1], size=1500)\n",
    "lat_lngs = zip(lats, lngs)"
   ]
  },
  {
   "cell_type": "code",
   "execution_count": 3,
   "metadata": {},
   "outputs": [],
   "source": [
    "# Identify nearest city for each lat, lng combination\n",
    "for lat_lng in lat_lngs:\n",
    "    city = citipy.nearest_city(lat_lng[0], lat_lng[1]).city_name\n",
    "    \n",
    "    # If the city is unique, then add it to a our cities list\n",
    "    if city not in cities:\n",
    "        cities.append(city)"
   ]
  },
  {
   "cell_type": "code",
   "execution_count": 4,
   "metadata": {},
   "outputs": [
    {
     "data": {
      "text/plain": [
       "624"
      ]
     },
     "execution_count": 4,
     "metadata": {},
     "output_type": "execute_result"
    }
   ],
   "source": [
    "# Print the city count to confirm sufficient count\n",
    "len(cities)"
   ]
  },
  {
   "cell_type": "markdown",
   "metadata": {},
   "source": [
    "### Perform API Calls\n",
    "* Perform a weather check on each city using a series of successive API calls.\n",
    "* Include a print log of each city as it's being processed (with the city number and city name)."
   ]
  },
  {
   "cell_type": "code",
   "execution_count": 5,
   "metadata": {},
   "outputs": [],
   "source": [
    "# Save config information.\n",
    "url = \"http://api.openweathermap.org/data/2.5/weather?\"\n",
    "units = \"imperial\"\n",
    "\n",
    "# Build query URL and request your results in Celsius\n",
    "query_url = f\"{url}appid={weather_api_key}&units={units}&q=\""
   ]
  },
  {
   "cell_type": "code",
   "execution_count": 6,
   "metadata": {},
   "outputs": [
    {
     "name": "stdout",
     "output_type": "stream",
     "text": [
      "[1]: Rikitea processed.\n",
      "[2]: Sangar processed.\n",
      "[3]: Makokou processed.\n",
      "[4]: Mataura processed.\n",
      "[5]: Virden processed.\n",
      "[6]: Batagay-Alyta processed.\n",
      "[7]: Warman processed.\n",
      "[8]: Atar processed.\n",
      "[9]: Upernavik processed.\n",
      "[10]: City not found.\n",
      "[11]: Chokurdakh processed.\n",
      "[12]: City not found.\n",
      "[13]: Solnechnyy processed.\n",
      "[14]: Atuona processed.\n",
      "[15]: Butaritari processed.\n",
      "[16]: Kapaa processed.\n",
      "[17]: Hasaki processed.\n",
      "[18]: Kodiak processed.\n",
      "[19]: Severnoye processed.\n",
      "[20]: Avarua processed.\n",
      "[21]: San Cristobal processed.\n",
      "[22]: Machinga processed.\n",
      "[23]: Arlit processed.\n",
      "[24]: Puerto Ayora processed.\n",
      "[25]: Orito processed.\n",
      "[26]: Vale Da Amoreira processed.\n",
      "[27]: City not found.\n",
      "[28]: Olinda processed.\n",
      "[29]: Ushuaia processed.\n",
      "[30]: Katangli processed.\n",
      "[31]: Hobart processed.\n",
      "[32]: Punta Arenas processed.\n",
      "[33]: Georgetown processed.\n",
      "[34]: Tuy Hoa processed.\n",
      "[35]: Sao Joao Da Barra processed.\n",
      "[36]: Shitanjing processed.\n",
      "[37]: Jhusi processed.\n",
      "[38]: Bredasdorp processed.\n",
      "[39]: Ancud processed.\n",
      "[40]: City not found.\n",
      "[41]: Chuy processed.\n",
      "[42]: Acapulco processed.\n",
      "[43]: Vaini processed.\n",
      "[44]: Port-Gentil processed.\n",
      "[45]: Paamiut processed.\n",
      "[46]: City not found.\n",
      "[47]: City not found.\n",
      "[48]: Qaanaaq processed.\n",
      "[49]: Carauari processed.\n",
      "[50]: Lebu processed.\n",
      "[51]: City not found.\n",
      "[52]: Bethel processed.\n",
      "[53]: Kahului processed.\n",
      "[54]: Jamestown processed.\n",
      "[55]: Namibe processed.\n",
      "[56]: City not found.\n",
      "[57]: Ribeira Grande processed.\n",
      "[58]: Dikson processed.\n",
      "[59]: Nanortalik processed.\n",
      "[60]: Bengkulu processed.\n",
      "[61]: City not found.\n",
      "[62]: Hofn processed.\n",
      "[63]: Monrovia processed.\n",
      "[64]: Miri processed.\n",
      "[65]: Makakilo City processed.\n",
      "[66]: Kiruna processed.\n",
      "[67]: City not found.\n",
      "[68]: Svobodnyy processed.\n",
      "[69]: Severo-Kurilsk processed.\n",
      "[70]: Thompson processed.\n",
      "[71]: Tabory processed.\n",
      "[72]: Khatanga processed.\n",
      "[73]: Busselton processed.\n",
      "[74]: Touros processed.\n",
      "[75]: City not found.\n",
      "[76]: Lakes Entrance processed.\n",
      "[77]: Mackay processed.\n",
      "[78]: Hermanus processed.\n",
      "[79]: City not found.\n",
      "[80]: Pangnirtung processed.\n",
      "[81]: Ust-Nera processed.\n",
      "[82]: Palimbang processed.\n",
      "[83]: Castro processed.\n",
      "[84]: Carnarvon processed.\n",
      "[85]: City not found.\n",
      "[86]: Belvedere Marittimo processed.\n",
      "[87]: Yellowknife processed.\n",
      "[88]: Cherskiy processed.\n",
      "[89]: Palana processed.\n",
      "[90]: Cape Town processed.\n",
      "[91]: Clyde River processed.\n",
      "[92]: Ilulissat processed.\n",
      "[93]: Mayo processed.\n",
      "[94]: Ahipara processed.\n",
      "[95]: Ormara processed.\n",
      "[96]: East London processed.\n",
      "[97]: Kirkwall processed.\n",
      "[98]: Havre-Saint-Pierre processed.\n",
      "[99]: Albany processed.\n",
      "[100]: Trinidad processed.\n",
      "[101]: Meulaboh processed.\n",
      "[102]: Bauchi processed.\n",
      "[103]: Beringovskiy processed.\n",
      "[104]: Maneadero processed.\n",
      "[105]: Ulaangom processed.\n",
      "[106]: Mahebourg processed.\n",
      "[107]: Barrow processed.\n",
      "[108]: Tiksi processed.\n",
      "[109]: Port Blair processed.\n",
      "[110]: Airai processed.\n",
      "[111]: Angoche processed.\n",
      "[112]: Abha processed.\n",
      "[113]: Kemi processed.\n",
      "[114]: Koutsouras processed.\n",
      "[115]: City not found.\n",
      "[116]: Arcachon processed.\n",
      "[117]: Suffolk processed.\n",
      "[118]: Pavlodar processed.\n",
      "[119]: Tres Coracoes processed.\n",
      "[120]: City not found.\n",
      "[121]: Mwene-Ditu processed.\n",
      "[122]: Hilo processed.\n",
      "[123]: Kruisfontein processed.\n",
      "[124]: Port Alfred processed.\n",
      "[125]: Zhigansk processed.\n",
      "[126]: Cherdyn processed.\n",
      "[127]: City not found.\n",
      "[128]: Bluff processed.\n",
      "[129]: City not found.\n",
      "[130]: Dunmore Town processed.\n",
      "[131]: Bloomsburg processed.\n",
      "[132]: Harrison processed.\n",
      "[133]: City not found.\n",
      "[134]: Zhoucheng processed.\n",
      "[135]: Morondava processed.\n",
      "[136]: Saskylakh processed.\n",
      "[137]: Sao Filipe processed.\n",
      "[138]: Marienburg processed.\n",
      "[139]: New Norfolk processed.\n",
      "[140]: Klaksvik processed.\n",
      "[141]: Garowe processed.\n",
      "[142]: Bambous Virieux processed.\n",
      "[143]: Takoradi processed.\n",
      "[144]: Saldanha processed.\n",
      "[145]: Kudat processed.\n",
      "[146]: Nikolskoye processed.\n",
      "[147]: Leshukonskoye processed.\n",
      "[148]: Akdepe processed.\n",
      "[149]: Santa Isabel Do Rio Negro processed.\n",
      "[150]: Kontagora processed.\n",
      "[151]: Det Udom processed.\n",
      "[152]: Ust-Tsilma processed.\n",
      "[153]: City not found.\n",
      "[154]: City not found.\n",
      "[155]: City not found.\n",
      "[156]: Port Elizabeth processed.\n",
      "[157]: Te Anau processed.\n",
      "[158]: Hithadhoo processed.\n",
      "[159]: Forecariah processed.\n",
      "[160]: Mon processed.\n",
      "[161]: Namatanai processed.\n",
      "[162]: Vestmannaeyjar processed.\n",
      "[163]: Pandaria processed.\n",
      "[164]: Ponta Do Sol processed.\n",
      "[165]: Urman processed.\n",
      "[166]: Nara processed.\n",
      "[167]: Mandalgovi processed.\n",
      "[168]: Xuanhua processed.\n",
      "[169]: Loandjili processed.\n",
      "[170]: Fairbanks processed.\n",
      "[171]: Velasco Ibarra processed.\n",
      "[172]: Sayat processed.\n",
      "[173]: Cairns processed.\n",
      "[174]: Itarema processed.\n",
      "[175]: Beloha processed.\n",
      "[176]: Nishihara processed.\n",
      "[177]: Porto Novo processed.\n",
      "[178]: Shache processed.\n",
      "[179]: Sisimiut processed.\n",
      "[180]: Maningrida processed.\n",
      "[181]: Kapuskasing processed.\n",
      "[182]: Aripuana processed.\n",
      "[183]: City not found.\n",
      "[184]: Half Moon Bay processed.\n",
      "[185]: Sharlyk processed.\n",
      "[186]: Fare processed.\n",
      "[187]: Port Hardy processed.\n",
      "[188]: Seoul processed.\n",
      "[189]: Chalus processed.\n",
      "[190]: Kavaratti processed.\n",
      "[191]: Vao processed.\n",
      "[192]: Kaka processed.\n",
      "[193]: Cochrane processed.\n",
      "[194]: Bayji processed.\n",
      "[195]: Pontal Do Parana processed.\n",
      "[196]: Lasa processed.\n",
      "[197]: Karpathos processed.\n",
      "[198]: Vila Do Maio processed.\n",
      "[199]: Lasem processed.\n",
      "[200]: Sukaraja processed.\n",
      "[201]: Colares processed.\n",
      "[202]: Kharan processed.\n",
      "[203]: San Quintin processed.\n",
      "[204]: Kirakira processed.\n",
      "[205]: Richards Bay processed.\n",
      "[206]: Laredo processed.\n",
      "[207]: Harper processed.\n",
      "[208]: Port Moresby processed.\n",
      "[209]: Rovnoye processed.\n",
      "[210]: Zapresic processed.\n",
      "[211]: Smithers processed.\n",
      "[212]: Konstantinovo processed.\n",
      "[213]: Ilhabela processed.\n",
      "[214]: Codrington processed.\n",
      "[215]: Zyryanskoye processed.\n",
      "[216]: Oranjemund processed.\n",
      "[217]: Mount Isa processed.\n",
      "[218]: Ishigaki processed.\n",
      "[219]: Tahta processed.\n",
      "[220]: City not found.\n",
      "[221]: Chuguyevka processed.\n",
      "[222]: Amga processed.\n",
      "[223]: Faanui processed.\n",
      "[224]: Yerbogachen processed.\n",
      "[225]: Lorengau processed.\n",
      "[226]: Naze processed.\n",
      "[227]: Auki processed.\n",
      "[228]: Khorramabad processed.\n",
      "[229]: Inyonga processed.\n",
      "[230]: Kununurra processed.\n",
      "[231]: Nome processed.\n",
      "[232]: Kurilsk processed.\n",
      "[233]: Nador processed.\n",
      "[234]: Matagami processed.\n",
      "[235]: Jiaozhou processed.\n",
      "[236]: Kaitangata processed.\n",
      "[237]: Emerald processed.\n",
      "[238]: Le Port processed.\n",
      "[239]: Torbay processed.\n",
      "[240]: Qinggang processed.\n",
      "[241]: Mar Del Plata processed.\n",
      "[242]: Dezful processed.\n",
      "[243]: City not found.\n",
      "[244]: Lata processed.\n",
      "[245]: Tura processed.\n",
      "[246]: City not found.\n",
      "[247]: Soyo processed.\n",
      "[248]: Evensk processed.\n",
      "[249]: City not found.\n",
      "[250]: Vardo processed.\n",
      "[251]: Caravelas processed.\n",
      "[252]: Ust-Kuyga processed.\n",
      "[253]: Tocopilla processed.\n",
      "[254]: Kozhva processed.\n",
      "[255]: Berezovka processed.\n",
      "[256]: Tasiilaq processed.\n",
      "[257]: Kyren processed.\n",
      "[258]: Avera processed.\n",
      "[259]: Plettenberg Bay processed.\n",
      "[260]: Terrace processed.\n",
      "[261]: Sorland processed.\n",
      "[262]: Catuday processed.\n",
      "[263]: Coihaique processed.\n",
      "[264]: Potam processed.\n",
      "[265]: San Carlos De Bariloche processed.\n",
      "[266]: Qui Nhon processed.\n",
      "[267]: Tuktoyaktuk processed.\n",
      "[268]: Beyla processed.\n",
      "[269]: Xining processed.\n",
      "[270]: Spearfish processed.\n",
      "[271]: Dicabisagan processed.\n",
      "[272]: Pantai Remis processed.\n",
      "[273]: Storsteinnes processed.\n",
      "[274]: Henties Bay processed.\n",
      "[275]: Horta processed.\n",
      "[276]: Burnie processed.\n",
      "[277]: Kamienna Gora processed.\n",
      "[278]: Dubai processed.\n",
      "[279]: Belgrade processed.\n",
      "[280]: Lavrentiya processed.\n",
      "[281]: Vila Franca Do Campo processed.\n",
      "[282]: Miyako processed.\n",
      "[283]: Ibra processed.\n",
      "[284]: Constitucion processed.\n",
      "[285]: Tutoia processed.\n",
      "[286]: Hay River processed.\n",
      "[287]: Maarianhamina processed.\n",
      "[288]: Marsabit processed.\n",
      "[289]: Rakaia processed.\n",
      "[290]: City not found.\n",
      "[291]: Zhuhai processed.\n",
      "[292]: City not found.\n",
      "[293]: Grindavik processed.\n",
      "[294]: Krechevitsy processed.\n",
      "[295]: Buin processed.\n",
      "[296]: Oriximina processed.\n",
      "[297]: Saint-Philippe processed.\n",
      "[298]: Chiungutwa processed.\n",
      "[299]: Palmer processed.\n",
      "[300]: City not found.\n",
      "[301]: City not found.\n",
      "[302]: Elko processed.\n",
      "[303]: Mogadishu processed.\n",
      "[304]: Phu Ly processed.\n",
      "[305]: Kapit processed.\n",
      "[306]: Tyrma processed.\n",
      "[307]: Ottumwa processed.\n",
      "[308]: City not found.\n",
      "[309]: Tuatapere processed.\n"
     ]
    },
    {
     "name": "stdout",
     "output_type": "stream",
     "text": [
      "[310]: Washougal processed.\n",
      "[311]: Kalangala processed.\n",
      "[312]: Sitka processed.\n",
      "[313]: Sampit processed.\n",
      "[314]: Coquimbo processed.\n",
      "[315]: Fakel processed.\n",
      "[316]: Campoverde processed.\n",
      "[317]: City not found.\n",
      "[318]: Fort Nelson processed.\n",
      "[319]: Robertson processed.\n",
      "[320]: Tabou processed.\n",
      "[321]: Polunochnoye processed.\n",
      "[322]: Nhulunbuy processed.\n",
      "[323]: Goderich processed.\n",
      "[324]: Vanavara processed.\n",
      "[325]: Talara processed.\n",
      "[326]: Petauke processed.\n",
      "[327]: Chinhoyi processed.\n",
      "[328]: Guerrero Negro processed.\n",
      "[329]: Cervo processed.\n",
      "[330]: Muncar processed.\n",
      "[331]: Luanda processed.\n",
      "[332]: Manono processed.\n",
      "[333]: Young processed.\n",
      "[334]: City not found.\n",
      "[335]: Leiyang processed.\n",
      "[336]: Marathon processed.\n",
      "[337]: Arraial Do Cabo processed.\n",
      "[338]: Cabo San Lucas processed.\n",
      "[339]: Salinas processed.\n",
      "[340]: Carlyle processed.\n",
      "[341]: Foz processed.\n",
      "[342]: City not found.\n",
      "[343]: Geraldton processed.\n",
      "[344]: Victoria processed.\n",
      "[345]: Praia processed.\n",
      "[346]: Yining processed.\n",
      "[347]: Inirida processed.\n",
      "[348]: Mount Gambier processed.\n",
      "[349]: Almaznyy processed.\n",
      "[350]: Iqaluit processed.\n",
      "[351]: Saint George processed.\n",
      "[352]: Kachiry processed.\n",
      "[353]: Turtas processed.\n",
      "[354]: Vila Velha processed.\n",
      "[355]: Longyearbyen processed.\n",
      "[356]: Lagoa processed.\n",
      "[357]: Kushmurun processed.\n",
      "[358]: Souillac processed.\n",
      "[359]: Oulainen processed.\n",
      "[360]: Sakakah processed.\n",
      "[361]: Kysyl-Syr processed.\n",
      "[362]: Cidreira processed.\n",
      "[363]: Hermosillo processed.\n",
      "[364]: Kalabagh processed.\n",
      "[365]: Tra Vinh processed.\n",
      "[366]: North Platte processed.\n",
      "[367]: Chany processed.\n",
      "[368]: Ostrovnoy processed.\n",
      "[369]: Dali processed.\n",
      "[370]: Bosaso processed.\n",
      "[371]: Medicine Hat processed.\n",
      "[372]: Egvekinot processed.\n",
      "[373]: Praia Da Vitoria processed.\n",
      "[374]: Wamba processed.\n",
      "[375]: Kavieng processed.\n",
      "[376]: Hualmay processed.\n",
      "[377]: Marsaxlokk processed.\n",
      "[378]: Fortuna processed.\n",
      "[379]: Mandurah processed.\n",
      "[380]: Darab processed.\n",
      "[381]: Tortoli processed.\n",
      "[382]: City not found.\n",
      "[383]: Karaman processed.\n",
      "[384]: City not found.\n",
      "[385]: Benguela processed.\n",
      "[386]: City not found.\n",
      "[387]: Zyryanka processed.\n",
      "[388]: Cobija processed.\n",
      "[389]: La Ronge processed.\n",
      "[390]: Haskovo processed.\n",
      "[391]: Pisco processed.\n",
      "[392]: Sabha processed.\n",
      "[393]: Isangel processed.\n",
      "[394]: Nemuro processed.\n",
      "[395]: Maniitsoq processed.\n",
      "[396]: Rosarito processed.\n",
      "[397]: City not found.\n",
      "[398]: Kunya processed.\n",
      "[399]: Tautira processed.\n",
      "[400]: Honiara processed.\n",
      "[401]: Yulara processed.\n",
      "[402]: Lompoc processed.\n",
      "[403]: Batticaloa processed.\n",
      "[404]: Gondanglegi processed.\n",
      "[405]: Madona processed.\n",
      "[406]: Straumen processed.\n",
      "[407]: Pacific Grove processed.\n",
      "[408]: Oros processed.\n",
      "[409]: Kalmunai processed.\n",
      "[410]: Les Cayes processed.\n",
      "[411]: Novyy Urengoy processed.\n",
      "[412]: Merauke processed.\n",
      "[413]: Palu processed.\n",
      "[414]: Awjilah processed.\n",
      "[415]: Laguna processed.\n",
      "[416]: Satipo processed.\n",
      "[417]: Exeter processed.\n",
      "[418]: Novopavlovka processed.\n",
      "[419]: Iguatu processed.\n",
      "[420]: Antofagasta processed.\n",
      "[421]: Yumen processed.\n",
      "[422]: Moranbah processed.\n",
      "[423]: Port Lincoln processed.\n",
      "[424]: Gat processed.\n",
      "[425]: Nelson Bay processed.\n",
      "[426]: Thinadhoo processed.\n",
      "[427]: Pevek processed.\n",
      "[428]: Rio Gallegos processed.\n",
      "[429]: City not found.\n",
      "[430]: Bilibino processed.\n",
      "[431]: Lubao processed.\n",
      "[432]: Kulhudhuffushi processed.\n",
      "[433]: Aasiaat processed.\n",
      "[434]: Pratapgarh processed.\n",
      "[435]: Missoula processed.\n",
      "[436]: Kautokeino processed.\n",
      "[437]: Jian processed.\n",
      "[438]: Mbandaka processed.\n",
      "[439]: Ndele processed.\n",
      "[440]: Kiama processed.\n",
      "[441]: Cabedelo processed.\n",
      "[442]: Marsh Harbour processed.\n",
      "[443]: Progreso processed.\n",
      "[444]: Nsanje processed.\n",
      "[445]: Requena processed.\n",
      "[446]: Suchedniow processed.\n",
      "[447]: Kupang processed.\n",
      "[448]: City not found.\n",
      "[449]: Sarakhs processed.\n",
      "[450]: Bani processed.\n",
      "[451]: Alihe processed.\n",
      "[452]: Ajdabiya processed.\n",
      "[453]: Honningsvag processed.\n",
      "[454]: Botou processed.\n",
      "[455]: Pechenga processed.\n",
      "[456]: Puerto Cabezas processed.\n",
      "[457]: Jiexiu processed.\n",
      "[458]: City not found.\n",
      "[459]: Panaba processed.\n",
      "[460]: Manggar processed.\n",
      "[461]: City not found.\n",
      "[462]: Oktyabrskiy processed.\n",
      "[463]: Turukhansk processed.\n",
      "[464]: Malakal processed.\n",
      "[465]: Baraki Barak processed.\n",
      "[466]: Carutapera processed.\n",
      "[467]: Fukue processed.\n",
      "[468]: City not found.\n",
      "[469]: Sola processed.\n",
      "[470]: Broome processed.\n",
      "[471]: Rio Grande processed.\n",
      "[472]: Mamallapuram processed.\n",
      "[473]: Delijan processed.\n",
      "[474]: Alice Springs processed.\n",
      "[475]: Kamaishi processed.\n",
      "[476]: Luau processed.\n",
      "[477]: Komsomolskiy processed.\n",
      "[478]: Antalaha processed.\n",
      "[479]: Yar-Sale processed.\n",
      "[480]: Kidal processed.\n",
      "[481]: Hamilton processed.\n",
      "[482]: Kamenka processed.\n",
      "[483]: Barberton processed.\n",
      "[484]: Morada Nova processed.\n",
      "[485]: Sayyan processed.\n",
      "[486]: Kayerkan processed.\n",
      "[487]: Batagay processed.\n",
      "[488]: Zhengjiatun processed.\n",
      "[489]: Contai processed.\n",
      "[490]: Kon Tum processed.\n",
      "[491]: Caucaia processed.\n",
      "[492]: Galway processed.\n",
      "[493]: Axim processed.\n",
      "[494]: Trapani processed.\n",
      "[495]: Berezovyy processed.\n",
      "[496]: Banda Aceh processed.\n",
      "[497]: Westport processed.\n",
      "[498]: Seymchan processed.\n",
      "[499]: Kirensk processed.\n",
      "[500]: Ust-Donetskiy processed.\n",
      "[501]: Doctor Juan Manuel Frutos processed.\n",
      "[502]: Xingyi processed.\n",
      "[503]: Big Bend processed.\n",
      "[504]: Gigmoto processed.\n",
      "[505]: Phetchabun processed.\n",
      "[506]: Olafsvik processed.\n",
      "[507]: Faya processed.\n",
      "[508]: Muli processed.\n",
      "[509]: Aklavik processed.\n",
      "[510]: Sinnamary processed.\n",
      "[511]: Lamu processed.\n",
      "[512]: Aswan processed.\n",
      "[513]: Saravan processed.\n",
      "[514]: Abu Kamal processed.\n",
      "[515]: Cap Malheureux processed.\n",
      "[516]: Alibag processed.\n",
      "[517]: Padang processed.\n",
      "[518]: Aitape processed.\n",
      "[519]: City not found.\n",
      "[520]: Porto Nacional processed.\n",
      "[521]: City not found.\n",
      "[522]: Coari processed.\n",
      "[523]: Marmande processed.\n",
      "[524]: Yantal processed.\n",
      "[525]: Dire processed.\n",
      "[526]: Camana processed.\n",
      "[527]: City not found.\n",
      "[528]: Whitianga processed.\n",
      "[529]: Lakatoro processed.\n",
      "[530]: Popondetta processed.\n",
      "[531]: Asau processed.\n",
      "[532]: Gizo processed.\n",
      "[533]: Tessalit processed.\n",
      "[534]: Manado processed.\n",
      "[535]: Sawakin processed.\n",
      "[536]: Camiri processed.\n",
      "[537]: Haverfordwest processed.\n",
      "[538]: Mubi processed.\n",
      "[539]: Grammichele processed.\n",
      "[540]: Esperance processed.\n",
      "[541]: Bara processed.\n",
      "[542]: Batsfjord processed.\n",
      "[543]: City not found.\n",
      "[544]: Nenjiang processed.\n",
      "[545]: City not found.\n",
      "[546]: Sinjai processed.\n",
      "[547]: Jinxiang processed.\n",
      "[548]: City not found.\n",
      "[549]: Karachi processed.\n",
      "[550]: Lively processed.\n",
      "[551]: Ranong processed.\n",
      "[552]: Deputatskiy processed.\n",
      "[553]: Port Arthur processed.\n",
      "[554]: Christchurch processed.\n",
      "[555]: Tulagi processed.\n",
      "[556]: Nagato processed.\n",
      "[557]: Middle Island processed.\n",
      "[558]: Adrar processed.\n",
      "[559]: Oistins processed.\n",
      "[560]: Magadan processed.\n",
      "[561]: Moyale processed.\n",
      "[562]: Ardmore processed.\n",
      "[563]: Tiznit processed.\n",
      "[564]: Dembi Dolo processed.\n",
      "[565]: Khandagayty processed.\n",
      "[566]: Mersing processed.\n",
      "[567]: Verkhnyaya Inta processed.\n",
      "[568]: Abong Mbang processed.\n",
      "[569]: City not found.\n",
      "[570]: Plock processed.\n",
      "[571]: Muzaffarabad processed.\n",
      "[572]: Changli processed.\n",
      "[573]: Trat processed.\n",
      "[574]: Povenets processed.\n",
      "[575]: City not found.\n",
      "[576]: Sakaiminato processed.\n",
      "[577]: Tromso processed.\n",
      "[578]: Leningradskiy processed.\n",
      "[579]: Tukrah processed.\n",
      "[580]: City not found.\n",
      "[581]: Bathsheba processed.\n",
      "[582]: Aldan processed.\n",
      "[583]: The Valley processed.\n",
      "[584]: Stonewall processed.\n",
      "[585]: Bushehr processed.\n",
      "[586]: Ayr processed.\n",
      "[587]: Baiyin processed.\n",
      "[588]: Zaltan processed.\n",
      "[589]: Mayor Pablo Lagerenza processed.\n",
      "[590]: Ponferrada processed.\n",
      "[591]: Baruun-Urt processed.\n",
      "[592]: Canutama processed.\n",
      "[593]: Sabang processed.\n",
      "[594]: Aranos processed.\n",
      "[595]: Tanggu processed.\n",
      "[596]: City not found.\n",
      "[597]: Asfi processed.\n",
      "[598]: Russell processed.\n",
      "[599]: Poronaysk processed.\n",
      "[600]: Kotma processed.\n",
      "[601]: Kungurtug processed.\n",
      "[602]: Prieska processed.\n",
      "[603]: Rantepao processed.\n",
      "[604]: Sisophon processed.\n",
      "[605]: City not found.\n",
      "[606]: Labuhan processed.\n",
      "[607]: Hlatikulu processed.\n",
      "[608]: Jaru processed.\n",
      "[609]: Youghal processed.\n",
      "[610]: Kuching processed.\n",
      "[611]: City not found.\n",
      "[612]: Samana processed.\n",
      "[613]: Grande Prairie processed.\n",
      "[614]: Crossville processed.\n",
      "[615]: Lokosovo processed.\n",
      "[616]: Braniewo processed.\n",
      "[617]: Umm Lajj processed.\n"
     ]
    },
    {
     "name": "stdout",
     "output_type": "stream",
     "text": [
      "[618]: Griffith processed.\n",
      "[619]: New Glasgow processed.\n",
      "[620]: Uyovu processed.\n",
      "[621]: West Wendover processed.\n",
      "[622]: Bintulu processed.\n",
      "[623]: Korla processed.\n",
      "[624]: Jumla processed.\n"
     ]
    }
   ],
   "source": [
    "# List for holding temperature of each city\n",
    "temp = []\n",
    "humidity = []\n",
    "cloudiness = []\n",
    "windspeed = []\n",
    "lat = []\n",
    "lng = []\n",
    "city_name = []\n",
    "\n",
    "# Loop through the list of cities and perform a request for data on each, while keeping count of the city number\n",
    "for n, city in enumerate(cities, 1):\n",
    "    \n",
    "    # Get weather data\n",
    "    weather_response = requests.get(query_url + city)\n",
    "    weather_json = weather_response.json()\n",
    "    \n",
    "    # Get weather info from JSON response and add to the list\n",
    "    try:    \n",
    "        temp.append(weather_json['main']['temp_max'])\n",
    "        humidity.append(weather_json['main']['humidity'])\n",
    "        cloudiness.append(weather_json['clouds']['all'])\n",
    "        windspeed.append(weather_json['wind']['speed'])\n",
    "        lat.append(weather_json['coord']['lat']) \n",
    "        lng.append(weather_json['coord']['lon']) \n",
    "        city_name.append(city)\n",
    "        # print log of each city as it's being processed (city number and city name).\n",
    "        print(f\"[{n}]: {city.title()} processed.\")\n",
    "        \n",
    "    except:\n",
    "        # Skip over to the new city while counting city\n",
    "        print(f\"[{n}]: City not found.\")\n",
    "        pass\n",
    "    "
   ]
  },
  {
   "cell_type": "code",
   "execution_count": 7,
   "metadata": {},
   "outputs": [
    {
     "data": {
      "text/plain": [
       "569"
      ]
     },
     "execution_count": 7,
     "metadata": {},
     "output_type": "execute_result"
    }
   ],
   "source": [
    "# Checking how many city samples in total\n",
    "len(temp)"
   ]
  },
  {
   "cell_type": "markdown",
   "metadata": {},
   "source": [
    "### Convert Raw Data to DataFrame\n",
    "* Export the city data into a .csv.\n",
    "* Display the DataFrame"
   ]
  },
  {
   "cell_type": "code",
   "execution_count": 8,
   "metadata": {},
   "outputs": [
    {
     "data": {
      "text/html": [
       "<div>\n",
       "<style scoped>\n",
       "    .dataframe tbody tr th:only-of-type {\n",
       "        vertical-align: middle;\n",
       "    }\n",
       "\n",
       "    .dataframe tbody tr th {\n",
       "        vertical-align: top;\n",
       "    }\n",
       "\n",
       "    .dataframe thead th {\n",
       "        text-align: right;\n",
       "    }\n",
       "</style>\n",
       "<table border=\"1\" class=\"dataframe\">\n",
       "  <thead>\n",
       "    <tr style=\"text-align: right;\">\n",
       "      <th></th>\n",
       "      <th>City</th>\n",
       "      <th>Latitude</th>\n",
       "      <th>Longitude</th>\n",
       "      <th>Max Temperature (F)</th>\n",
       "      <th>Humidity (%)</th>\n",
       "      <th>Cloudiness (%)</th>\n",
       "      <th>Wind Speed (mph)</th>\n",
       "    </tr>\n",
       "  </thead>\n",
       "  <tbody>\n",
       "    <tr>\n",
       "      <th>0</th>\n",
       "      <td>rikitea</td>\n",
       "      <td>-23.12</td>\n",
       "      <td>-134.97</td>\n",
       "      <td>67.24</td>\n",
       "      <td>59</td>\n",
       "      <td>39</td>\n",
       "      <td>14.07</td>\n",
       "    </tr>\n",
       "    <tr>\n",
       "      <th>1</th>\n",
       "      <td>sangar</td>\n",
       "      <td>63.92</td>\n",
       "      <td>127.47</td>\n",
       "      <td>74.88</td>\n",
       "      <td>49</td>\n",
       "      <td>93</td>\n",
       "      <td>9.89</td>\n",
       "    </tr>\n",
       "    <tr>\n",
       "      <th>2</th>\n",
       "      <td>makokou</td>\n",
       "      <td>0.57</td>\n",
       "      <td>12.86</td>\n",
       "      <td>67.12</td>\n",
       "      <td>94</td>\n",
       "      <td>66</td>\n",
       "      <td>2.59</td>\n",
       "    </tr>\n",
       "    <tr>\n",
       "      <th>3</th>\n",
       "      <td>mataura</td>\n",
       "      <td>-46.19</td>\n",
       "      <td>168.86</td>\n",
       "      <td>44.22</td>\n",
       "      <td>70</td>\n",
       "      <td>99</td>\n",
       "      <td>8.34</td>\n",
       "    </tr>\n",
       "    <tr>\n",
       "      <th>4</th>\n",
       "      <td>virden</td>\n",
       "      <td>39.50</td>\n",
       "      <td>-89.77</td>\n",
       "      <td>75.00</td>\n",
       "      <td>85</td>\n",
       "      <td>0</td>\n",
       "      <td>1.01</td>\n",
       "    </tr>\n",
       "  </tbody>\n",
       "</table>\n",
       "</div>"
      ],
      "text/plain": [
       "      City  Latitude  Longitude  Max Temperature (F)  Humidity (%)  \\\n",
       "0  rikitea    -23.12    -134.97                67.24            59   \n",
       "1   sangar     63.92     127.47                74.88            49   \n",
       "2  makokou      0.57      12.86                67.12            94   \n",
       "3  mataura    -46.19     168.86                44.22            70   \n",
       "4   virden     39.50     -89.77                75.00            85   \n",
       "\n",
       "   Cloudiness (%)  Wind Speed (mph)  \n",
       "0              39             14.07  \n",
       "1              93              9.89  \n",
       "2              66              2.59  \n",
       "3              99              8.34  \n",
       "4               0              1.01  "
      ]
     },
     "execution_count": 8,
     "metadata": {},
     "output_type": "execute_result"
    }
   ],
   "source": [
    "cities_api_data_df = pd.DataFrame({\n",
    "    \"City\": city_name,\n",
    "    \"Latitude\": lat,\n",
    "    \"Longitude\": lng,\n",
    "    \"Max Temperature (F)\": temp,\n",
    "    \"Humidity (%)\": humidity,\n",
    "    \"Cloudiness (%)\": cloudiness,\n",
    "    \"Wind Speed (mph)\": windspeed\n",
    "    })\n",
    "\n",
    "# Save Data to csv\n",
    "cities_api_data_df.to_csv(\"Output Data/City_Data.csv\")\n",
    "cities_api_data_df.head()"
   ]
  },
  {
   "cell_type": "markdown",
   "metadata": {},
   "source": [
    "## Inspect the data and remove the cities where the humidity > 100%.\n",
    "----\n",
    "Skip this step if there are no cities that have humidity > 100%. "
   ]
  },
  {
   "cell_type": "code",
   "execution_count": 9,
   "metadata": {},
   "outputs": [
    {
     "data": {
      "text/html": [
       "<div>\n",
       "<style scoped>\n",
       "    .dataframe tbody tr th:only-of-type {\n",
       "        vertical-align: middle;\n",
       "    }\n",
       "\n",
       "    .dataframe tbody tr th {\n",
       "        vertical-align: top;\n",
       "    }\n",
       "\n",
       "    .dataframe thead th {\n",
       "        text-align: right;\n",
       "    }\n",
       "</style>\n",
       "<table border=\"1\" class=\"dataframe\">\n",
       "  <thead>\n",
       "    <tr style=\"text-align: right;\">\n",
       "      <th></th>\n",
       "      <th>City</th>\n",
       "      <th>Latitude</th>\n",
       "      <th>Longitude</th>\n",
       "      <th>Max Temperature (F)</th>\n",
       "      <th>Humidity (%)</th>\n",
       "      <th>Cloudiness (%)</th>\n",
       "      <th>Wind Speed (mph)</th>\n",
       "    </tr>\n",
       "  </thead>\n",
       "  <tbody>\n",
       "  </tbody>\n",
       "</table>\n",
       "</div>"
      ],
      "text/plain": [
       "Empty DataFrame\n",
       "Columns: [City, Latitude, Longitude, Max Temperature (F), Humidity (%), Cloudiness (%), Wind Speed (mph)]\n",
       "Index: []"
      ]
     },
     "execution_count": 9,
     "metadata": {},
     "output_type": "execute_result"
    }
   ],
   "source": [
    "### USE THE STUFF HERE FOR GOING FORWARD WITH THE REST OF THE HW\n",
    "humidity100_df = cities_api_data_df.loc[cities_api_data_df['Humidity (%)'] > 100, :]\n",
    "humidity100_df.head(3)"
   ]
  },
  {
   "cell_type": "code",
   "execution_count": 10,
   "metadata": {},
   "outputs": [
    {
     "data": {
      "text/plain": [
       "array([], dtype=int32)"
      ]
     },
     "execution_count": 10,
     "metadata": {},
     "output_type": "execute_result"
    }
   ],
   "source": [
    "#  Get the indices of cities that have humidity over 100%.\n",
    "# https://stackoverflow.com/questions/41217310/get-index-of-a-row-of-a-pandas-dataframe-as-an-integer/42853445\n",
    "humidity100_index = cities_api_data_df.loc[cities_api_data_df['Humidity (%)'] > 100, :].index.values.astype(int)\n",
    "humidity100_index"
   ]
  },
  {
   "cell_type": "code",
   "execution_count": 11,
   "metadata": {},
   "outputs": [],
   "source": [
    "# Make a new DataFrame equal to the city data to drop all humidity outliers by index.\n",
    "# Passing \"inplace=False\" will make a copy of the city_data DataFrame, which we call \"clean_city_data\".\n"
   ]
  },
  {
   "cell_type": "code",
   "execution_count": 12,
   "metadata": {},
   "outputs": [],
   "source": [
    "# Extract relevant fields from the data frame\n",
    "# Export the City_Data into a csv"
   ]
  },
  {
   "cell_type": "markdown",
   "metadata": {},
   "source": [
    "## Plotting the Data\n",
    "* Use proper labeling of the plots using plot titles (including date of analysis) and axes labels.\n",
    "* Save the plotted figures as .pngs."
   ]
  },
  {
   "cell_type": "markdown",
   "metadata": {},
   "source": [
    "## Latitude vs. Temperature Plot"
   ]
  },
  {
   "cell_type": "code",
   "execution_count": 13,
   "metadata": {
    "scrolled": true
   },
   "outputs": [
    {
     "data": {
      "image/png": "[encoded data removed]",
      "text/plain": [
       "<Figure size 504x360 with 1 Axes>"
      ]
     },
     "metadata": {
      "needs_background": "light"
     },
     "output_type": "display_data"
    }
   ],
   "source": [
    "cities_api_data_df.plot(kind='scatter', x='Latitude', y='Max Temperature (F)', title='City Latitude VS Maximum Temperature (7/22/20)', grid=True, figsize=(7,5))\n",
    "plt.savefig(\"Output Data/latitude_maxT.png\")\n",
    "plt.show()"
   ]
  },
  {
   "cell_type": "markdown",
   "metadata": {},
   "source": [
    "## Latitude vs. Humidity Plot"
   ]
  },
  {
   "cell_type": "code",
   "execution_count": 14,
   "metadata": {
    "scrolled": true
   },
   "outputs": [
    {
     "data": {
      "image/png": "[encoded data removed]",
      "text/plain": [
       "<Figure size 504x360 with 1 Axes>"
      ]
     },
     "metadata": {
      "needs_background": "light"
     },
     "output_type": "display_data"
    }
   ],
   "source": [
    "cities_api_data_df.plot(kind='scatter', x='Latitude', y='Humidity (%)', title='City Latitude VS Humidity (7/22/20)', grid=True, figsize=(7,5))\n",
    "plt.savefig(\"Output Data/latitude_humidity.png\")\n",
    "plt.show()"
   ]
  },
  {
   "cell_type": "markdown",
   "metadata": {},
   "source": [
    "## Latitude vs. Cloudiness Plot"
   ]
  },
  {
   "cell_type": "code",
   "execution_count": 15,
   "metadata": {},
   "outputs": [
    {
     "data": {
      "image/png": "[encoded data removed]",
      "text/plain": [
       "<Figure size 504x360 with 1 Axes>"
      ]
     },
     "metadata": {
      "needs_background": "light"
     },
     "output_type": "display_data"
    }
   ],
   "source": [
    "cities_api_data_df.plot(kind='scatter', x='Latitude', y='Cloudiness (%)', title='City Latitude VS Cloudiness (7/22/20)', grid=True, figsize=(7,5))\n",
    "plt.savefig(\"Output Data/latitude_cloudiness.png\")\n",
    "plt.show()"
   ]
  },
  {
   "cell_type": "markdown",
   "metadata": {},
   "source": [
    "## Latitude vs. Wind Speed Plot"
   ]
  },
  {
   "cell_type": "code",
   "execution_count": 16,
   "metadata": {},
   "outputs": [
    {
     "data": {
      "image/png": "[encoded data removed]",
      "text/plain": [
       "<Figure size 504x360 with 1 Axes>"
      ]
     },
     "metadata": {
      "needs_background": "light"
     },
     "output_type": "display_data"
    }
   ],
   "source": [
    "cities_api_data_df.plot(kind='scatter', x='Latitude', y='Wind Speed (mph)', title='City Latitude VS Wind Speed (7/22/20)', grid=True, figsize=(7,5))\n",
    "plt.savefig(\"Output Data/latitude_windspeed.png\")\n",
    "plt.show()"
   ]
  },
  {
   "cell_type": "markdown",
   "metadata": {},
   "source": [
    "## Linear Regression"
   ]
  },
  {
   "cell_type": "code",
   "execution_count": 17,
   "metadata": {},
   "outputs": [
    {
     "data": {
      "text/html": [
       "<div>\n",
       "<style scoped>\n",
       "    .dataframe tbody tr th:only-of-type {\n",
       "        vertical-align: middle;\n",
       "    }\n",
       "\n",
       "    .dataframe tbody tr th {\n",
       "        vertical-align: top;\n",
       "    }\n",
       "\n",
       "    .dataframe thead th {\n",
       "        text-align: right;\n",
       "    }\n",
       "</style>\n",
       "<table border=\"1\" class=\"dataframe\">\n",
       "  <thead>\n",
       "    <tr style=\"text-align: right;\">\n",
       "      <th></th>\n",
       "      <th>City</th>\n",
       "      <th>Latitude</th>\n",
       "      <th>Longitude</th>\n",
       "      <th>Max Temperature (F)</th>\n",
       "      <th>Humidity (%)</th>\n",
       "      <th>Cloudiness (%)</th>\n",
       "      <th>Wind Speed (mph)</th>\n",
       "    </tr>\n",
       "  </thead>\n",
       "  <tbody>\n",
       "    <tr>\n",
       "      <th>0</th>\n",
       "      <td>rikitea</td>\n",
       "      <td>-23.12</td>\n",
       "      <td>-134.97</td>\n",
       "      <td>67.24</td>\n",
       "      <td>59</td>\n",
       "      <td>39</td>\n",
       "      <td>14.07</td>\n",
       "    </tr>\n",
       "    <tr>\n",
       "      <th>1</th>\n",
       "      <td>sangar</td>\n",
       "      <td>63.92</td>\n",
       "      <td>127.47</td>\n",
       "      <td>74.88</td>\n",
       "      <td>49</td>\n",
       "      <td>93</td>\n",
       "      <td>9.89</td>\n",
       "    </tr>\n",
       "    <tr>\n",
       "      <th>2</th>\n",
       "      <td>makokou</td>\n",
       "      <td>0.57</td>\n",
       "      <td>12.86</td>\n",
       "      <td>67.12</td>\n",
       "      <td>94</td>\n",
       "      <td>66</td>\n",
       "      <td>2.59</td>\n",
       "    </tr>\n",
       "    <tr>\n",
       "      <th>3</th>\n",
       "      <td>mataura</td>\n",
       "      <td>-46.19</td>\n",
       "      <td>168.86</td>\n",
       "      <td>44.22</td>\n",
       "      <td>70</td>\n",
       "      <td>99</td>\n",
       "      <td>8.34</td>\n",
       "    </tr>\n",
       "    <tr>\n",
       "      <th>4</th>\n",
       "      <td>virden</td>\n",
       "      <td>39.50</td>\n",
       "      <td>-89.77</td>\n",
       "      <td>75.00</td>\n",
       "      <td>85</td>\n",
       "      <td>0</td>\n",
       "      <td>1.01</td>\n",
       "    </tr>\n",
       "    <tr>\n",
       "      <th>...</th>\n",
       "      <td>...</td>\n",
       "      <td>...</td>\n",
       "      <td>...</td>\n",
       "      <td>...</td>\n",
       "      <td>...</td>\n",
       "      <td>...</td>\n",
       "      <td>...</td>\n",
       "    </tr>\n",
       "    <tr>\n",
       "      <th>564</th>\n",
       "      <td>uyovu</td>\n",
       "      <td>-3.28</td>\n",
       "      <td>31.53</td>\n",
       "      <td>62.40</td>\n",
       "      <td>60</td>\n",
       "      <td>0</td>\n",
       "      <td>6.80</td>\n",
       "    </tr>\n",
       "    <tr>\n",
       "      <th>565</th>\n",
       "      <td>west wendover</td>\n",
       "      <td>40.74</td>\n",
       "      <td>-114.07</td>\n",
       "      <td>82.40</td>\n",
       "      <td>21</td>\n",
       "      <td>1</td>\n",
       "      <td>18.34</td>\n",
       "    </tr>\n",
       "    <tr>\n",
       "      <th>566</th>\n",
       "      <td>bintulu</td>\n",
       "      <td>3.17</td>\n",
       "      <td>113.03</td>\n",
       "      <td>84.20</td>\n",
       "      <td>79</td>\n",
       "      <td>40</td>\n",
       "      <td>5.82</td>\n",
       "    </tr>\n",
       "    <tr>\n",
       "      <th>567</th>\n",
       "      <td>korla</td>\n",
       "      <td>41.76</td>\n",
       "      <td>86.15</td>\n",
       "      <td>71.01</td>\n",
       "      <td>89</td>\n",
       "      <td>0</td>\n",
       "      <td>6.67</td>\n",
       "    </tr>\n",
       "    <tr>\n",
       "      <th>568</th>\n",
       "      <td>jumla</td>\n",
       "      <td>29.27</td>\n",
       "      <td>82.18</td>\n",
       "      <td>70.00</td>\n",
       "      <td>55</td>\n",
       "      <td>56</td>\n",
       "      <td>2.71</td>\n",
       "    </tr>\n",
       "  </tbody>\n",
       "</table>\n",
       "<p>569 rows × 7 columns</p>\n",
       "</div>"
      ],
      "text/plain": [
       "              City  Latitude  Longitude  Max Temperature (F)  Humidity (%)  \\\n",
       "0          rikitea    -23.12    -134.97                67.24            59   \n",
       "1           sangar     63.92     127.47                74.88            49   \n",
       "2          makokou      0.57      12.86                67.12            94   \n",
       "3          mataura    -46.19     168.86                44.22            70   \n",
       "4           virden     39.50     -89.77                75.00            85   \n",
       "..             ...       ...        ...                  ...           ...   \n",
       "564          uyovu     -3.28      31.53                62.40            60   \n",
       "565  west wendover     40.74    -114.07                82.40            21   \n",
       "566        bintulu      3.17     113.03                84.20            79   \n",
       "567          korla     41.76      86.15                71.01            89   \n",
       "568          jumla     29.27      82.18                70.00            55   \n",
       "\n",
       "     Cloudiness (%)  Wind Speed (mph)  \n",
       "0                39             14.07  \n",
       "1                93              9.89  \n",
       "2                66              2.59  \n",
       "3                99              8.34  \n",
       "4                 0              1.01  \n",
       "..              ...               ...  \n",
       "564               0              6.80  \n",
       "565               1             18.34  \n",
       "566              40              5.82  \n",
       "567               0              6.67  \n",
       "568              56              2.71  \n",
       "\n",
       "[569 rows x 7 columns]"
      ]
     },
     "execution_count": 17,
     "metadata": {},
     "output_type": "execute_result"
    }
   ],
   "source": [
    "# Create Northern and Southern Hemisphere DataFrames\n",
    "northern_hem_df = cities_api_data_df.loc[cities_api_data_df['Latitude'] >= 0, :]\n",
    "southern_hem_df = cities_api_data_df.loc[cities_api_data_df['Latitude'] < 0, :]\n",
    "cities_api_data_df"
   ]
  },
  {
   "cell_type": "code",
   "execution_count": 18,
   "metadata": {},
   "outputs": [],
   "source": [
    "# OPTIONAL: Create a function to create Linear Regression plots\n",
    "def plotweather(df,y, hem):\n",
    "    # Scatter plot\n",
    "    plt.xlabel('Latitude')\n",
    "    plt.ylabel(y)\n",
    "    plt.title(f'{hem} Hemisphere - {y} vs. Latitude (7/22/20)')\n",
    "    x = df['Latitude']\n",
    "    y = df[y]\n",
    "    plt.scatter(x, y)\n",
    "    \n",
    "    # Add linear regression line\n",
    "    (slope, intercept, rvalue, pvalue, stderr) = linregress(x, y)\n",
    "    regress = x * slope + intercept\n",
    "    plt.plot(x,regress,\"r-\")\n",
    "    print(f\"The r-squared is: {rvalue**2}\")"
   ]
  },
  {
   "cell_type": "markdown",
   "metadata": {},
   "source": [
    "####  Northern Hemisphere - Max Temp vs. Latitude Linear Regression"
   ]
  },
  {
   "cell_type": "code",
   "execution_count": 19,
   "metadata": {
    "scrolled": true
   },
   "outputs": [
    {
     "name": "stdout",
     "output_type": "stream",
     "text": [
      "The r-squared is: 0.37283040037993803\n"
     ]
    },
    {
     "data": {
      "image/png": "[encoded data removed]",
      "text/plain": [
       "<Figure size 432x288 with 1 Axes>"
      ]
     },
     "metadata": {
      "needs_background": "light"
     },
     "output_type": "display_data"
    }
   ],
   "source": [
    "y = 'Max Temperature (F)'\n",
    "hem = 'Northern'\n",
    "plotweather(northern_hem_df, y, hem)\n",
    "    \n",
    "# Save the plot as png file\n",
    "plt.savefig(f\"Output Data/{hem} Hemisphere - {y} vs. Latitude.png\")\n",
    "\n",
    "plt.show()"
   ]
  },
  {
   "cell_type": "markdown",
   "metadata": {},
   "source": [
    "####  Southern Hemisphere - Max Temp vs. Latitude Linear Regression"
   ]
  },
  {
   "cell_type": "code",
   "execution_count": 20,
   "metadata": {},
   "outputs": [
    {
     "name": "stdout",
     "output_type": "stream",
     "text": [
      "The r-squared is: 0.6070424103058074\n"
     ]
    },
    {
     "data": {
      "image/png": "[encoded data removed]",
      "text/plain": [
       "<Figure size 432x288 with 1 Axes>"
      ]
     },
     "metadata": {
      "needs_background": "light"
     },
     "output_type": "display_data"
    }
   ],
   "source": [
    "y = 'Max Temperature (F)'\n",
    "hem = 'Southern'\n",
    "plotweather(southern_hem_df, y, hem)\n",
    "\n",
    "# Save the plot as png file\n",
    "plt.savefig(f\"Output Data/{hem} Hemisphere - {y} vs. Latitude.png\")\n",
    "\n",
    "plt.show()"
   ]
  },
  {
   "cell_type": "markdown",
   "metadata": {},
   "source": [
    "The linear regression models the correlation between latitude and maximum temperature in the northern and southern hemispheres. \n",
    "\n",
    "The model for the northern hemisphere suggests a weak negative correlation between the latitude and the maximum tempeature. As the latitude increases, the maximum temperature decreases.\n",
    "\n",
    "The model for the southern hemisphere suggests a moderate-to-weak positive correlation between the latitude and the maximum tempeature compared to the model for the northern hemisphere. As the latitude increases, the maximum temperature also increases. The southern hemisphere model indicates a stronger correlation, compared to the norther hemisphere model."
   ]
  },
  {
   "cell_type": "markdown",
   "metadata": {},
   "source": [
    "####  Northern Hemisphere - Humidity (%) vs. Latitude Linear Regression"
   ]
  },
  {
   "cell_type": "code",
   "execution_count": 21,
   "metadata": {},
   "outputs": [
    {
     "name": "stdout",
     "output_type": "stream",
     "text": [
      "The r-squared is: 0.009477994345270113\n"
     ]
    },
    {
     "data": {
      "image/png": "[encoded data removed]",
      "text/plain": [
       "<Figure size 432x288 with 1 Axes>"
      ]
     },
     "metadata": {
      "needs_background": "light"
     },
     "output_type": "display_data"
    }
   ],
   "source": [
    "y = 'Humidity (%)'\n",
    "hem = 'Northern'\n",
    "plotweather(northern_hem_df, y, hem)\n",
    "\n",
    "# Save the plot as png file\n",
    "plt.savefig(f\"Output Data/{hem} Hemisphere - {y} vs. Latitude.png\")\n",
    "\n",
    "plt.show()"
   ]
  },
  {
   "cell_type": "markdown",
   "metadata": {},
   "source": [
    "####  Southern Hemisphere - Humidity (%) vs. Latitude Linear Regression"
   ]
  },
  {
   "cell_type": "code",
   "execution_count": 22,
   "metadata": {},
   "outputs": [
    {
     "name": "stdout",
     "output_type": "stream",
     "text": [
      "The r-squared is: 0.005547344563009837\n"
     ]
    },
    {
     "data": {
      "image/png": "[encoded data removed]",
      "text/plain": [
       "<Figure size 432x288 with 1 Axes>"
      ]
     },
     "metadata": {
      "needs_background": "light"
     },
     "output_type": "display_data"
    }
   ],
   "source": [
    "y = 'Humidity (%)'\n",
    "hem = 'Southern'\n",
    "plotweather(southern_hem_df, y, hem)\n",
    "\n",
    "# Save the plot as png file\n",
    "plt.savefig(f\"Output Data/{hem} Hemisphere - {y} vs. Latitude.png\")\n",
    "\n",
    "plt.show()"
   ]
  },
  {
   "cell_type": "markdown",
   "metadata": {},
   "source": [
    "The linear regression models the correlation between latitude and percentage humdity in the northern and southern hemispheres. \n",
    "\n",
    "The models for both the northern and southern hemisphere suggest that there are almost no correlation between the percentage humdity and the latitude, as indicated by the very low r-squared of almost 0."
   ]
  },
  {
   "cell_type": "markdown",
   "metadata": {},
   "source": [
    "####  Northern Hemisphere - Cloudiness (%) vs. Latitude Linear Regression"
   ]
  },
  {
   "cell_type": "code",
   "execution_count": 23,
   "metadata": {},
   "outputs": [
    {
     "name": "stdout",
     "output_type": "stream",
     "text": [
      "The r-squared is: 0.007418151205000964\n"
     ]
    },
    {
     "data": {
      "image/png": "[encoded data removed]",
      "text/plain": [
       "<Figure size 432x288 with 1 Axes>"
      ]
     },
     "metadata": {
      "needs_background": "light"
     },
     "output_type": "display_data"
    }
   ],
   "source": [
    "y = 'Cloudiness (%)'\n",
    "hem = 'Northern'\n",
    "plotweather(northern_hem_df, y, hem)\n",
    "\n",
    "# Save the plot as png file\n",
    "plt.savefig(f\"Output Data/{hem} Hemisphere - {y} vs. Latitude.png\")\n",
    "\n",
    "plt.show()"
   ]
  },
  {
   "cell_type": "markdown",
   "metadata": {},
   "source": [
    "####  Southern Hemisphere - Cloudiness (%) vs. Latitude Linear Regression"
   ]
  },
  {
   "cell_type": "code",
   "execution_count": 24,
   "metadata": {},
   "outputs": [
    {
     "name": "stdout",
     "output_type": "stream",
     "text": [
      "The r-squared is: 0.0010057362614541256\n"
     ]
    },
    {
     "data": {
      "image/png": "[encoded data removed]",
      "text/plain": [
       "<Figure size 432x288 with 1 Axes>"
      ]
     },
     "metadata": {
      "needs_background": "light"
     },
     "output_type": "display_data"
    }
   ],
   "source": [
    "y = 'Cloudiness (%)'\n",
    "hem = 'Southern'\n",
    "plotweather(southern_hem_df, y, hem)\n",
    "\n",
    "# Save the plot as png file\n",
    "plt.savefig(f\"Output Data/{hem} Hemisphere - {y} vs. Latitude.png\")\n",
    "\n",
    "plt.show()"
   ]
  },
  {
   "cell_type": "markdown",
   "metadata": {},
   "source": [
    "The linear regression models the correlation between latitude and percentage cloudiness in the northern and southern hemispheres. \n",
    "\n",
    "The models for both the northern and southern hemisphere suggest that there are almost no correlation between the percentage cloudiness and the latitude, as indicated by the r-squared of almost 0. Though the model for the southern hemisphere has a higher r-squared than the model for the northern hemisphere, the correlation is still very weak and almost 0. "
   ]
  },
  {
   "cell_type": "markdown",
   "metadata": {},
   "source": [
    "####  Northern Hemisphere - Wind Speed (mph) vs. Latitude Linear Regression"
   ]
  },
  {
   "cell_type": "code",
   "execution_count": 25,
   "metadata": {},
   "outputs": [
    {
     "name": "stdout",
     "output_type": "stream",
     "text": [
      "The r-squared is: 0.005863080713245255\n"
     ]
    },
    {
     "data": {
      "image/png": "[encoded data removed]",
      "text/plain": [
       "<Figure size 432x288 with 1 Axes>"
      ]
     },
     "metadata": {
      "needs_background": "light"
     },
     "output_type": "display_data"
    }
   ],
   "source": [
    "y = 'Wind Speed (mph)'\n",
    "hem = 'Northern'\n",
    "plotweather(northern_hem_df, y, hem)\n",
    "\n",
    "# Save the plot as png file\n",
    "plt.savefig(f\"Output Data/{hem} Hemisphere - {y} vs. Latitude.png\")\n",
    "\n",
    "plt.show()"
   ]
  },
  {
   "cell_type": "markdown",
   "metadata": {},
   "source": [
    "####  Southern Hemisphere - Wind Speed (mph) vs. Latitude Linear Regression"
   ]
  },
  {
   "cell_type": "code",
   "execution_count": 26,
   "metadata": {},
   "outputs": [
    {
     "name": "stdout",
     "output_type": "stream",
     "text": [
      "The r-squared is: 0.012285246889826474\n"
     ]
    },
    {
     "data": {
      "image/png": "[encoded data removed]",
      "text/plain": [
       "<Figure size 432x288 with 1 Axes>"
      ]
     },
     "metadata": {
      "needs_background": "light"
     },
     "output_type": "display_data"
    }
   ],
   "source": [
    "y = 'Wind Speed (mph)'\n",
    "hem = 'Southern'\n",
    "plotweather(southern_hem_df, y, hem)\n",
    "\n",
    "# Save the plot as png file\n",
    "plt.savefig(f\"Output Data/{hem} Hemisphere - {y} vs. Latitude.png\")\n",
    "\n",
    "plt.show()"
   ]
  },
  {
   "cell_type": "markdown",
   "metadata": {},
   "source": [
    "The linear regression models the correlation between latitude and wind speed in the northern and southern hemispheres.\n",
    "\n",
    "The models for both the northern and southern hemisphere suggest that there are almost no correlation between the wind speed and the latitude, as indicated by the r-squared of near 0 for the nothern hemisphere model and the the r-squared of essentially 0 for the southern hemisphere model."
   ]
  },
  {
   "cell_type": "markdown",
   "metadata": {},
   "source": [
    "# Three Observable Trends"
   ]
  },
  {
   "cell_type": "markdown",
   "metadata": {},
   "source": [
    "1. At a glance, there seems to be strong correlation, demonstrating a relationship between maximum temperature and latitude.\n",
    "2. If the cities are located in the northern hemisphere, the maximum temperature tends to increase with the decrease in latitude. If the cities are located in the southern hemisphere, the maximum temperature tends to increase with the increase in latitude. The regression model, however, indicates an overall weak correlation between maximum temperature and latitude.\n",
    "3. The coefficient of correlation between latitude and the weather parameters (max temperature, percentage humidity, percentage cloudiness and wind speed) seem to vary between the hemisphere, i.e. the r-squared value for the northern hemisphere model is better than the r-squared value for the southern hemisphere model, and vice versa."
   ]
  },
  {
   "cell_type": "code",
   "execution_count": null,
   "metadata": {},
   "outputs": [],
   "source": []
  }
 ],
 "metadata": {
  "anaconda-cloud": {},
  "kernel_info": {
   "name": "python3"
  },
  "kernelspec": {
   "display_name": "Python 3",
   "language": "python",
   "name": "python3"
  },
  "language_info": {
   "codemirror_mode": {
    "name": "ipython",
    "version": 3
   },
   "file_extension": ".py",
   "mimetype": "text/x-python",
   "name": "python",
   "nbconvert_exporter": "python",
   "pygments_lexer": "ipython3",
   "version": "3.6.10"
  },
  "latex_envs": {
   "LaTeX_envs_menu_present": true,
   "autoclose": false,
   "autocomplete": true,
   "bibliofile": "biblio.bib",
   "cite_by": "apalike",
   "current_citInitial": 1,
   "eqLabelWithNumbers": true,
   "eqNumInitial": 1,
   "hotkeys": {
    "equation": "Ctrl-E",
    "itemize": "Ctrl-I"
   },
   "labels_anchors": false,
   "latex_user_defs": false,
   "report_style_numbering": false,
   "user_envs_cfg": false
  },
  "nteract": {
   "version": "0.12.3"
  }
 },
 "nbformat": 4,
 "nbformat_minor": 2
}
